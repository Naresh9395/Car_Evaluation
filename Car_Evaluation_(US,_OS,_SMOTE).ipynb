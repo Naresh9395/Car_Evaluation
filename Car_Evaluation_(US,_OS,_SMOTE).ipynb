{
  "nbformat": 4,
  "nbformat_minor": 0,
  "metadata": {
    "colab": {
      "name": "Car Evaluation (US, OS, SMOTE).ipynb",
      "provenance": [],
      "collapsed_sections": []
    },
    "kernelspec": {
      "name": "python3",
      "display_name": "Python 3"
    },
    "language_info": {
      "name": "python"
    }
  },
  "cells": [
    {
      "cell_type": "markdown",
      "metadata": {
        "id": "u-fzYLlwftp_"
      },
      "source": [
        "#Imbalanecd Data set\n",
        "1. Under Sampling\n",
        "2. Over Sampling\n",
        "3. Smote (Synthetic Minority Over Sampling Technique)"
      ]
    },
    {
      "cell_type": "markdown",
      "metadata": {
        "id": "ibmhjFkwNsFf"
      },
      "source": [
        "#Understanding the data set\n",
        "CAR car acceptability\n",
        ". PRICE overall price\n",
        ". . buying buying price\n",
        ". . maint price of the maintenance\n",
        ". TECH technical characteristics\n",
        ". . COMFORT comfort\n",
        ". . . doors number of doors\n",
        ". . . persons capacity in terms of persons to carry\n",
        ". . . lug_boot the size of luggage boot\n",
        ". . safety estimated safety of the car\n",
        "\n",
        "Input attributes are printed in lowercase. Besides the target concept (CAR), the model includes three intermediate concepts: PRICE, TECH, COMFORT. Every concept is in the original model related to its lower level descendants by a set of examples (for these examples sets see [Web Link]).\n",
        "\n",
        "The Car Evaluation Database contains examples with the structural information removed, i.e., directly relates CAR to the six input attributes: buying, maint, doors, persons, lug_boot, safety.\n",
        "\n",
        "Because of known underlying concept structure, this database may be particularly useful for testing constructive induction and structure discovery methods.\n",
        "\n",
        "Attribute Information:\n",
        "\n",
        "Class Values:\n",
        "\n",
        "unacc, acc, good, vgood\n",
        "\n",
        "Attributes:\n",
        "\n",
        "buying: vhigh, high, med, low.\n",
        "maint: vhigh, high, med, low.\n",
        "doors: 2, 3, 4, 5more.\n",
        "persons: 2, 4, more.\n",
        "lug_boot: small, med, big.\n",
        "safety: low, med, high.\n",
        "\n",
        "Class Distribution\n",
        "\n",
        "unacc\n",
        "acc\n",
        "good\n",
        "v-good"
      ]
    },
    {
      "cell_type": "markdown",
      "metadata": {
        "id": "mzwb1P-DPTrV"
      },
      "source": [
        "#Importing Libraries"
      ]
    },
    {
      "cell_type": "code",
      "metadata": {
        "id": "akh_sKtOru1P"
      },
      "source": [
        "import numpy as np\n",
        "import pandas as pd\n",
        "import matplotlib.pyplot as plt\n",
        "import seaborn as sb"
      ],
      "execution_count": 96,
      "outputs": []
    },
    {
      "cell_type": "code",
      "metadata": {
        "id": "gxIfF1ktMv4T"
      },
      "source": [
        "df = pd.read_csv('/content/car_evaluation.csv')"
      ],
      "execution_count": 97,
      "outputs": []
    },
    {
      "cell_type": "code",
      "metadata": {
        "colab": {
          "base_uri": "https://localhost:8080/",
          "height": 202
        },
        "id": "l3DUvIbjM8jw",
        "outputId": "0893a545-4c46-4d95-c649-a40577cefcfe"
      },
      "source": [
        "df.head()"
      ],
      "execution_count": 98,
      "outputs": [
        {
          "output_type": "execute_result",
          "data": {
            "text/html": [
              "<div>\n",
              "<style scoped>\n",
              "    .dataframe tbody tr th:only-of-type {\n",
              "        vertical-align: middle;\n",
              "    }\n",
              "\n",
              "    .dataframe tbody tr th {\n",
              "        vertical-align: top;\n",
              "    }\n",
              "\n",
              "    .dataframe thead th {\n",
              "        text-align: right;\n",
              "    }\n",
              "</style>\n",
              "<table border=\"1\" class=\"dataframe\">\n",
              "  <thead>\n",
              "    <tr style=\"text-align: right;\">\n",
              "      <th></th>\n",
              "      <th>buying</th>\n",
              "      <th>maint</th>\n",
              "      <th>doors</th>\n",
              "      <th>persons</th>\n",
              "      <th>lug_boot</th>\n",
              "      <th>safety</th>\n",
              "      <th>outcome</th>\n",
              "    </tr>\n",
              "  </thead>\n",
              "  <tbody>\n",
              "    <tr>\n",
              "      <th>0</th>\n",
              "      <td>vhigh</td>\n",
              "      <td>vhigh</td>\n",
              "      <td>2</td>\n",
              "      <td>2</td>\n",
              "      <td>small</td>\n",
              "      <td>low</td>\n",
              "      <td>unacc</td>\n",
              "    </tr>\n",
              "    <tr>\n",
              "      <th>1</th>\n",
              "      <td>vhigh</td>\n",
              "      <td>vhigh</td>\n",
              "      <td>2</td>\n",
              "      <td>2</td>\n",
              "      <td>small</td>\n",
              "      <td>med</td>\n",
              "      <td>unacc</td>\n",
              "    </tr>\n",
              "    <tr>\n",
              "      <th>2</th>\n",
              "      <td>vhigh</td>\n",
              "      <td>vhigh</td>\n",
              "      <td>2</td>\n",
              "      <td>2</td>\n",
              "      <td>small</td>\n",
              "      <td>high</td>\n",
              "      <td>unacc</td>\n",
              "    </tr>\n",
              "    <tr>\n",
              "      <th>3</th>\n",
              "      <td>vhigh</td>\n",
              "      <td>vhigh</td>\n",
              "      <td>2</td>\n",
              "      <td>2</td>\n",
              "      <td>med</td>\n",
              "      <td>low</td>\n",
              "      <td>unacc</td>\n",
              "    </tr>\n",
              "    <tr>\n",
              "      <th>4</th>\n",
              "      <td>vhigh</td>\n",
              "      <td>vhigh</td>\n",
              "      <td>2</td>\n",
              "      <td>2</td>\n",
              "      <td>med</td>\n",
              "      <td>med</td>\n",
              "      <td>unacc</td>\n",
              "    </tr>\n",
              "  </tbody>\n",
              "</table>\n",
              "</div>"
            ],
            "text/plain": [
              "  buying  maint  doors  persons lug_boot safety outcome\n",
              "0  vhigh  vhigh      2        2    small    low   unacc\n",
              "1  vhigh  vhigh      2        2    small    med   unacc\n",
              "2  vhigh  vhigh      2        2    small   high   unacc\n",
              "3  vhigh  vhigh      2        2      med    low   unacc\n",
              "4  vhigh  vhigh      2        2      med    med   unacc"
            ]
          },
          "metadata": {
            "tags": []
          },
          "execution_count": 98
        }
      ]
    },
    {
      "cell_type": "code",
      "metadata": {
        "colab": {
          "base_uri": "https://localhost:8080/",
          "height": 202
        },
        "id": "UPQsRnbrP2jp",
        "outputId": "f80ee822-304d-49cc-9ed6-0398aab96a6c"
      },
      "source": [
        "df.tail()"
      ],
      "execution_count": 99,
      "outputs": [
        {
          "output_type": "execute_result",
          "data": {
            "text/html": [
              "<div>\n",
              "<style scoped>\n",
              "    .dataframe tbody tr th:only-of-type {\n",
              "        vertical-align: middle;\n",
              "    }\n",
              "\n",
              "    .dataframe tbody tr th {\n",
              "        vertical-align: top;\n",
              "    }\n",
              "\n",
              "    .dataframe thead th {\n",
              "        text-align: right;\n",
              "    }\n",
              "</style>\n",
              "<table border=\"1\" class=\"dataframe\">\n",
              "  <thead>\n",
              "    <tr style=\"text-align: right;\">\n",
              "      <th></th>\n",
              "      <th>buying</th>\n",
              "      <th>maint</th>\n",
              "      <th>doors</th>\n",
              "      <th>persons</th>\n",
              "      <th>lug_boot</th>\n",
              "      <th>safety</th>\n",
              "      <th>outcome</th>\n",
              "    </tr>\n",
              "  </thead>\n",
              "  <tbody>\n",
              "    <tr>\n",
              "      <th>1723</th>\n",
              "      <td>low</td>\n",
              "      <td>low</td>\n",
              "      <td>5</td>\n",
              "      <td>5</td>\n",
              "      <td>med</td>\n",
              "      <td>med</td>\n",
              "      <td>good</td>\n",
              "    </tr>\n",
              "    <tr>\n",
              "      <th>1724</th>\n",
              "      <td>low</td>\n",
              "      <td>low</td>\n",
              "      <td>5</td>\n",
              "      <td>5</td>\n",
              "      <td>med</td>\n",
              "      <td>high</td>\n",
              "      <td>vgood</td>\n",
              "    </tr>\n",
              "    <tr>\n",
              "      <th>1725</th>\n",
              "      <td>low</td>\n",
              "      <td>low</td>\n",
              "      <td>5</td>\n",
              "      <td>5</td>\n",
              "      <td>big</td>\n",
              "      <td>low</td>\n",
              "      <td>unacc</td>\n",
              "    </tr>\n",
              "    <tr>\n",
              "      <th>1726</th>\n",
              "      <td>low</td>\n",
              "      <td>low</td>\n",
              "      <td>5</td>\n",
              "      <td>5</td>\n",
              "      <td>big</td>\n",
              "      <td>med</td>\n",
              "      <td>good</td>\n",
              "    </tr>\n",
              "    <tr>\n",
              "      <th>1727</th>\n",
              "      <td>low</td>\n",
              "      <td>low</td>\n",
              "      <td>5</td>\n",
              "      <td>5</td>\n",
              "      <td>big</td>\n",
              "      <td>high</td>\n",
              "      <td>vgood</td>\n",
              "    </tr>\n",
              "  </tbody>\n",
              "</table>\n",
              "</div>"
            ],
            "text/plain": [
              "     buying maint  doors  persons lug_boot safety outcome\n",
              "1723    low   low      5        5      med    med    good\n",
              "1724    low   low      5        5      med   high   vgood\n",
              "1725    low   low      5        5      big    low   unacc\n",
              "1726    low   low      5        5      big    med    good\n",
              "1727    low   low      5        5      big   high   vgood"
            ]
          },
          "metadata": {
            "tags": []
          },
          "execution_count": 99
        }
      ]
    },
    {
      "cell_type": "code",
      "metadata": {
        "colab": {
          "base_uri": "https://localhost:8080/"
        },
        "id": "d9XR7yyqP95y",
        "outputId": "46b48675-4630-4e68-c6f8-5559ae60698a"
      },
      "source": [
        "df.shape"
      ],
      "execution_count": 100,
      "outputs": [
        {
          "output_type": "execute_result",
          "data": {
            "text/plain": [
              "(1728, 7)"
            ]
          },
          "metadata": {
            "tags": []
          },
          "execution_count": 100
        }
      ]
    },
    {
      "cell_type": "code",
      "metadata": {
        "colab": {
          "base_uri": "https://localhost:8080/"
        },
        "id": "2Czfkgc9QFVd",
        "outputId": "5088e477-8e5c-46f9-cd7f-34867a751491"
      },
      "source": [
        "df.columns"
      ],
      "execution_count": 102,
      "outputs": [
        {
          "output_type": "execute_result",
          "data": {
            "text/plain": [
              "Index(['buying', 'maint', 'doors', 'persons', 'lug_boot', 'safety', 'outcome'], dtype='object')"
            ]
          },
          "metadata": {
            "tags": []
          },
          "execution_count": 102
        }
      ]
    },
    {
      "cell_type": "code",
      "metadata": {
        "colab": {
          "base_uri": "https://localhost:8080/"
        },
        "id": "hzNmex9rQA6B",
        "outputId": "148b812a-9960-4010-fc6c-994acdbcc187"
      },
      "source": [
        "df.dtypes"
      ],
      "execution_count": 101,
      "outputs": [
        {
          "output_type": "execute_result",
          "data": {
            "text/plain": [
              "buying      object\n",
              "maint       object\n",
              "doors        int64\n",
              "persons      int64\n",
              "lug_boot    object\n",
              "safety      object\n",
              "outcome     object\n",
              "dtype: object"
            ]
          },
          "metadata": {
            "tags": []
          },
          "execution_count": 101
        }
      ]
    },
    {
      "cell_type": "code",
      "metadata": {
        "colab": {
          "base_uri": "https://localhost:8080/",
          "height": 294
        },
        "id": "V1840FfeSLK2",
        "outputId": "13011adb-ccb7-4095-c7fb-b3e678c96c8c"
      },
      "source": [
        "df.describe()"
      ],
      "execution_count": 107,
      "outputs": [
        {
          "output_type": "execute_result",
          "data": {
            "text/html": [
              "<div>\n",
              "<style scoped>\n",
              "    .dataframe tbody tr th:only-of-type {\n",
              "        vertical-align: middle;\n",
              "    }\n",
              "\n",
              "    .dataframe tbody tr th {\n",
              "        vertical-align: top;\n",
              "    }\n",
              "\n",
              "    .dataframe thead th {\n",
              "        text-align: right;\n",
              "    }\n",
              "</style>\n",
              "<table border=\"1\" class=\"dataframe\">\n",
              "  <thead>\n",
              "    <tr style=\"text-align: right;\">\n",
              "      <th></th>\n",
              "      <th>doors</th>\n",
              "      <th>persons</th>\n",
              "    </tr>\n",
              "  </thead>\n",
              "  <tbody>\n",
              "    <tr>\n",
              "      <th>count</th>\n",
              "      <td>1728.000000</td>\n",
              "      <td>1728.000000</td>\n",
              "    </tr>\n",
              "    <tr>\n",
              "      <th>mean</th>\n",
              "      <td>3.500000</td>\n",
              "      <td>3.666667</td>\n",
              "    </tr>\n",
              "    <tr>\n",
              "      <th>std</th>\n",
              "      <td>1.118358</td>\n",
              "      <td>1.247580</td>\n",
              "    </tr>\n",
              "    <tr>\n",
              "      <th>min</th>\n",
              "      <td>2.000000</td>\n",
              "      <td>2.000000</td>\n",
              "    </tr>\n",
              "    <tr>\n",
              "      <th>25%</th>\n",
              "      <td>2.750000</td>\n",
              "      <td>2.000000</td>\n",
              "    </tr>\n",
              "    <tr>\n",
              "      <th>50%</th>\n",
              "      <td>3.500000</td>\n",
              "      <td>4.000000</td>\n",
              "    </tr>\n",
              "    <tr>\n",
              "      <th>75%</th>\n",
              "      <td>4.250000</td>\n",
              "      <td>5.000000</td>\n",
              "    </tr>\n",
              "    <tr>\n",
              "      <th>max</th>\n",
              "      <td>5.000000</td>\n",
              "      <td>5.000000</td>\n",
              "    </tr>\n",
              "  </tbody>\n",
              "</table>\n",
              "</div>"
            ],
            "text/plain": [
              "             doors      persons\n",
              "count  1728.000000  1728.000000\n",
              "mean      3.500000     3.666667\n",
              "std       1.118358     1.247580\n",
              "min       2.000000     2.000000\n",
              "25%       2.750000     2.000000\n",
              "50%       3.500000     4.000000\n",
              "75%       4.250000     5.000000\n",
              "max       5.000000     5.000000"
            ]
          },
          "metadata": {
            "tags": []
          },
          "execution_count": 107
        }
      ]
    },
    {
      "cell_type": "code",
      "metadata": {
        "colab": {
          "base_uri": "https://localhost:8080/"
        },
        "id": "xlZ2lI9ySP0K",
        "outputId": "f1e3fecf-4827-47e4-99d0-f1042edb978f"
      },
      "source": [
        "df.info()"
      ],
      "execution_count": 108,
      "outputs": [
        {
          "output_type": "stream",
          "text": [
            "<class 'pandas.core.frame.DataFrame'>\n",
            "RangeIndex: 1728 entries, 0 to 1727\n",
            "Data columns (total 7 columns):\n",
            " #   Column    Non-Null Count  Dtype \n",
            "---  ------    --------------  ----- \n",
            " 0   buying    1728 non-null   object\n",
            " 1   maint     1728 non-null   object\n",
            " 2   doors     1728 non-null   int64 \n",
            " 3   persons   1728 non-null   int64 \n",
            " 4   lug_boot  1728 non-null   object\n",
            " 5   safety    1728 non-null   object\n",
            " 6   outcome   1728 non-null   object\n",
            "dtypes: int64(2), object(5)\n",
            "memory usage: 94.6+ KB\n"
          ],
          "name": "stdout"
        }
      ]
    },
    {
      "cell_type": "code",
      "metadata": {
        "colab": {
          "base_uri": "https://localhost:8080/"
        },
        "id": "TL5EDh-4SSjL",
        "outputId": "3a3d0175-5294-48a9-f80b-ce6f7ae85451"
      },
      "source": [
        "df.isnull().sum()"
      ],
      "execution_count": 109,
      "outputs": [
        {
          "output_type": "execute_result",
          "data": {
            "text/plain": [
              "buying      0\n",
              "maint       0\n",
              "doors       0\n",
              "persons     0\n",
              "lug_boot    0\n",
              "safety      0\n",
              "outcome     0\n",
              "dtype: int64"
            ]
          },
          "metadata": {
            "tags": []
          },
          "execution_count": 109
        }
      ]
    },
    {
      "cell_type": "code",
      "metadata": {
        "colab": {
          "base_uri": "https://localhost:8080/"
        },
        "id": "7JHijfFPSXdb",
        "outputId": "ab42945e-0f81-4b6b-86ca-f4d3effe8765"
      },
      "source": [
        "df.duplicated().sum()"
      ],
      "execution_count": 110,
      "outputs": [
        {
          "output_type": "execute_result",
          "data": {
            "text/plain": [
              "0"
            ]
          },
          "metadata": {
            "tags": []
          },
          "execution_count": 110
        }
      ]
    },
    {
      "cell_type": "markdown",
      "metadata": {
        "id": "m4xHWl4uQU7d"
      },
      "source": [
        "#Finding Unique values in the dataset for each feature"
      ]
    },
    {
      "cell_type": "code",
      "metadata": {
        "colab": {
          "base_uri": "https://localhost:8080/"
        },
        "id": "pJVnZL1iNQUW",
        "outputId": "31088301-1d4a-471c-fd03-bdb9b39b0488"
      },
      "source": [
        "for col in list(df):\n",
        "  print(col)\n",
        "  print(df[col].unique())"
      ],
      "execution_count": 35,
      "outputs": [
        {
          "output_type": "stream",
          "text": [
            "buying\n",
            "['vhigh' 'high' 'med' 'low']\n",
            "maint\n",
            "['vhigh' 'high' 'med' 'low']\n",
            "doors\n",
            "[2 3 4 5]\n",
            "persons\n",
            "[2 4 5]\n",
            "lug_boot\n",
            "['small' 'med' 'big']\n",
            "safety\n",
            "['low' 'med' 'high']\n",
            "outcome\n",
            "['unacc' 'acc' 'vgood' 'good']\n"
          ],
          "name": "stdout"
        }
      ]
    },
    {
      "cell_type": "markdown",
      "metadata": {
        "id": "zZWKdP6MQfvz"
      },
      "source": [
        "#Finding no. of Unique values in the dataset for each feature"
      ]
    },
    {
      "cell_type": "code",
      "metadata": {
        "colab": {
          "base_uri": "https://localhost:8080/"
        },
        "id": "itXpCWbzNQWg",
        "outputId": "ce8fca72-240f-4bd0-bcab-e07826f95a52"
      },
      "source": [
        "for col in list(df):\n",
        "  print(col, df[col].nunique(), sep='--->')\n",
        "  print()"
      ],
      "execution_count": 104,
      "outputs": [
        {
          "output_type": "stream",
          "text": [
            "buying--->4\n",
            "\n",
            "maint--->4\n",
            "\n",
            "doors--->4\n",
            "\n",
            "persons--->3\n",
            "\n",
            "lug_boot--->3\n",
            "\n",
            "safety--->3\n",
            "\n",
            "outcome--->4\n",
            "\n"
          ],
          "name": "stdout"
        }
      ]
    },
    {
      "cell_type": "markdown",
      "metadata": {
        "id": "i_p74scxRzPp"
      },
      "source": [
        "#Value Counts"
      ]
    },
    {
      "cell_type": "code",
      "metadata": {
        "colab": {
          "base_uri": "https://localhost:8080/"
        },
        "id": "8HkZ91QGNQZu",
        "outputId": "e84a9957-7fa7-4548-e0c7-3142093ab42c"
      },
      "source": [
        "for col in list(df):\n",
        "  print(col)\n",
        "  print(df[col].value_counts())"
      ],
      "execution_count": 103,
      "outputs": [
        {
          "output_type": "stream",
          "text": [
            "buying\n",
            "vhigh    432\n",
            "med      432\n",
            "low      432\n",
            "high     432\n",
            "Name: buying, dtype: int64\n",
            "maint\n",
            "vhigh    432\n",
            "med      432\n",
            "low      432\n",
            "high     432\n",
            "Name: maint, dtype: int64\n",
            "doors\n",
            "5    432\n",
            "4    432\n",
            "3    432\n",
            "2    432\n",
            "Name: doors, dtype: int64\n",
            "persons\n",
            "5    576\n",
            "4    576\n",
            "2    576\n",
            "Name: persons, dtype: int64\n",
            "lug_boot\n",
            "small    576\n",
            "big      576\n",
            "med      576\n",
            "Name: lug_boot, dtype: int64\n",
            "safety\n",
            "med     576\n",
            "low     576\n",
            "high    576\n",
            "Name: safety, dtype: int64\n",
            "outcome\n",
            "unacc    1210\n",
            "acc       384\n",
            "good       69\n",
            "vgood      65\n",
            "Name: outcome, dtype: int64\n"
          ],
          "name": "stdout"
        }
      ]
    },
    {
      "cell_type": "code",
      "metadata": {
        "colab": {
          "base_uri": "https://localhost:8080/"
        },
        "id": "CCu2FxqkRtmr",
        "outputId": "1921976b-f7e6-44cd-8462-030b5907c03d"
      },
      "source": [
        "df.outcome.value_counts()"
      ],
      "execution_count": 105,
      "outputs": [
        {
          "output_type": "execute_result",
          "data": {
            "text/plain": [
              "unacc    1210\n",
              "acc       384\n",
              "good       69\n",
              "vgood      65\n",
              "Name: outcome, dtype: int64"
            ]
          },
          "metadata": {
            "tags": []
          },
          "execution_count": 105
        }
      ]
    },
    {
      "cell_type": "markdown",
      "metadata": {
        "id": "TYGIiZBFR-Dz"
      },
      "source": [
        "#EDA"
      ]
    },
    {
      "cell_type": "code",
      "metadata": {
        "colab": {
          "base_uri": "https://localhost:8080/"
        },
        "id": "TpqswrR0R88s",
        "outputId": "594d9f5e-62f2-4802-fa62-e385c8e6d48c"
      },
      "source": [
        "df.columns"
      ],
      "execution_count": 106,
      "outputs": [
        {
          "output_type": "execute_result",
          "data": {
            "text/plain": [
              "Index(['buying', 'maint', 'doors', 'persons', 'lug_boot', 'safety', 'outcome'], dtype='object')"
            ]
          },
          "metadata": {
            "tags": []
          },
          "execution_count": 106
        }
      ]
    },
    {
      "cell_type": "code",
      "metadata": {
        "colab": {
          "base_uri": "https://localhost:8080/",
          "height": 334
        },
        "id": "KKZECycsSBMc",
        "outputId": "eec79df6-9d68-40b7-ff13-20acda20bde1"
      },
      "source": [
        "plt.figure(figsize = (10,5))\n",
        "sb.countplot(data = df, x = 'outcome', hue = 'outcome')\n",
        "plt.show()"
      ],
      "execution_count": 131,
      "outputs": [
        {
          "output_type": "display_data",
          "data": {
            "image/png": "[encoded data removed]",
            "text/plain": [
              "<Figure size 720x360 with 1 Axes>"
            ]
          },
          "metadata": {
            "tags": [],
            "needs_background": "light"
          }
        }
      ]
    },
    {
      "cell_type": "code",
      "metadata": {
        "colab": {
          "base_uri": "https://localhost:8080/",
          "height": 296
        },
        "id": "JwSR3uU-SBPm",
        "outputId": "268dc70a-df0a-42dd-9e2e-5a366e3a6dc9"
      },
      "source": [
        "sb.histplot(data = df, x = 'outcome', y = 'buying', hue = 'outcome', )"
      ],
      "execution_count": 135,
      "outputs": [
        {
          "output_type": "execute_result",
          "data": {
            "text/plain": [
              "<matplotlib.axes._subplots.AxesSubplot at 0x7fb482b6fcd0>"
            ]
          },
          "metadata": {
            "tags": []
          },
          "execution_count": 135
        },
        {
          "output_type": "display_data",
          "data": {
            "image/png": "[encoded data removed]",
            "text/plain": [
              "<Figure size 432x288 with 1 Axes>"
            ]
          },
          "metadata": {
            "tags": [],
            "needs_background": "light"
          }
        }
      ]
    },
    {
      "cell_type": "code",
      "metadata": {
        "colab": {
          "base_uri": "https://localhost:8080/",
          "height": 282
        },
        "id": "f8JljGi1SBSg",
        "outputId": "1f868cb7-ae03-46c4-d61e-6e4dc7a5c804"
      },
      "source": [
        "sb.boxplot(data = df)"
      ],
      "execution_count": 137,
      "outputs": [
        {
          "output_type": "execute_result",
          "data": {
            "text/plain": [
              "<matplotlib.axes._subplots.AxesSubplot at 0x7fb482b28050>"
            ]
          },
          "metadata": {
            "tags": []
          },
          "execution_count": 137
        },
        {
          "output_type": "display_data",
          "data": {
            "image/png": "[encoded data removed]",
            "text/plain": [
              "<Figure size 432x288 with 1 Axes>"
            ]
          },
          "metadata": {
            "tags": [],
            "needs_background": "light"
          }
        }
      ]
    },
    {
      "cell_type": "code",
      "metadata": {
        "colab": {
          "base_uri": "https://localhost:8080/",
          "height": 296
        },
        "id": "Kybe_CxRVwlY",
        "outputId": "7920cee8-8a32-4f46-abbf-7bda0247d7e1"
      },
      "source": [
        "sb.scatterplot(data=df, x='buying',y ='outcome')"
      ],
      "execution_count": 139,
      "outputs": [
        {
          "output_type": "execute_result",
          "data": {
            "text/plain": [
              "<matplotlib.axes._subplots.AxesSubplot at 0x7fb482a27310>"
            ]
          },
          "metadata": {
            "tags": []
          },
          "execution_count": 139
        },
        {
          "output_type": "display_data",
          "data": {
            "image/png": "[encoded data removed]",
            "text/plain": [
              "<Figure size 432x288 with 1 Axes>"
            ]
          },
          "metadata": {
            "tags": [],
            "needs_background": "light"
          }
        }
      ]
    },
    {
      "cell_type": "code",
      "metadata": {
        "colab": {
          "base_uri": "https://localhost:8080/",
          "height": 486
        },
        "id": "4h1f5drjW6Cf",
        "outputId": "dc6f4776-a7dc-49e1-98d9-2272be3ff4d9"
      },
      "source": [
        "x_pie=df['outcome'].value_counts()\n",
        "colors = ['orange', 'green', 'yellow', 'blue']\n",
        "plt.figure(figsize=(8,8))\n",
        "plt.pie(x_pie, labels=x_pie.index,\n",
        "        wedgeprops={'edgecolor':'black'},\n",
        "        autopct='%1.0f%%', \n",
        "        explode = [0.1,0,0,0], colors=colors,\n",
        "        pctdistance=.5, labeldistance=1.2,shadow=True)\n",
        "plt.title('Outcome', size = 20, color = 'blue')\n",
        "plt.legend()\n",
        "plt.show()"
      ],
      "execution_count": 161,
      "outputs": [
        {
          "output_type": "display_data",
          "data": {
            "image/png": "[encoded data removed]",
            "text/plain": [
              "<Figure size 576x576 with 1 Axes>"
            ]
          },
          "metadata": {
            "tags": []
          }
        }
      ]
    },
    {
      "cell_type": "code",
      "metadata": {
        "colab": {
          "base_uri": "https://localhost:8080/",
          "height": 321
        },
        "id": "mv3PpcfZWnW5",
        "outputId": "a55ebd84-f9c9-491c-f06e-31e4ed0b657f"
      },
      "source": [
        "sb.heatmap(df.isnull(), yticklabels=False)"
      ],
      "execution_count": 141,
      "outputs": [
        {
          "output_type": "execute_result",
          "data": {
            "text/plain": [
              "<matplotlib.axes._subplots.AxesSubplot at 0x7fb4905bfa90>"
            ]
          },
          "metadata": {
            "tags": []
          },
          "execution_count": 141
        },
        {
          "output_type": "display_data",
          "data": {
            "image/png": "[encoded data removed]",
            "text/plain": [
              "<Figure size 432x288 with 2 Axes>"
            ]
          },
          "metadata": {
            "tags": [],
            "needs_background": "light"
          }
        }
      ]
    },
    {
      "cell_type": "markdown",
      "metadata": {
        "id": "ji9Du05kZOvl"
      },
      "source": [
        "#Dividing Dataset"
      ]
    },
    {
      "cell_type": "code",
      "metadata": {
        "id": "5OeKO_iYNQdG"
      },
      "source": [
        "x = df.drop('outcome', axis = 1)\n",
        "y = df.outcome"
      ],
      "execution_count": 164,
      "outputs": []
    },
    {
      "cell_type": "code",
      "metadata": {
        "colab": {
          "base_uri": "https://localhost:8080/",
          "height": 141
        },
        "id": "N-O2XqhHVTjb",
        "outputId": "50627bb1-4057-41e6-9570-b164af23548d"
      },
      "source": [
        "x.head(3)"
      ],
      "execution_count": 165,
      "outputs": [
        {
          "output_type": "execute_result",
          "data": {
            "text/html": [
              "<div>\n",
              "<style scoped>\n",
              "    .dataframe tbody tr th:only-of-type {\n",
              "        vertical-align: middle;\n",
              "    }\n",
              "\n",
              "    .dataframe tbody tr th {\n",
              "        vertical-align: top;\n",
              "    }\n",
              "\n",
              "    .dataframe thead th {\n",
              "        text-align: right;\n",
              "    }\n",
              "</style>\n",
              "<table border=\"1\" class=\"dataframe\">\n",
              "  <thead>\n",
              "    <tr style=\"text-align: right;\">\n",
              "      <th></th>\n",
              "      <th>buying</th>\n",
              "      <th>maint</th>\n",
              "      <th>doors</th>\n",
              "      <th>persons</th>\n",
              "      <th>lug_boot</th>\n",
              "      <th>safety</th>\n",
              "    </tr>\n",
              "  </thead>\n",
              "  <tbody>\n",
              "    <tr>\n",
              "      <th>0</th>\n",
              "      <td>vhigh</td>\n",
              "      <td>vhigh</td>\n",
              "      <td>2</td>\n",
              "      <td>2</td>\n",
              "      <td>small</td>\n",
              "      <td>low</td>\n",
              "    </tr>\n",
              "    <tr>\n",
              "      <th>1</th>\n",
              "      <td>vhigh</td>\n",
              "      <td>vhigh</td>\n",
              "      <td>2</td>\n",
              "      <td>2</td>\n",
              "      <td>small</td>\n",
              "      <td>med</td>\n",
              "    </tr>\n",
              "    <tr>\n",
              "      <th>2</th>\n",
              "      <td>vhigh</td>\n",
              "      <td>vhigh</td>\n",
              "      <td>2</td>\n",
              "      <td>2</td>\n",
              "      <td>small</td>\n",
              "      <td>high</td>\n",
              "    </tr>\n",
              "  </tbody>\n",
              "</table>\n",
              "</div>"
            ],
            "text/plain": [
              "  buying  maint  doors  persons lug_boot safety\n",
              "0  vhigh  vhigh      2        2    small    low\n",
              "1  vhigh  vhigh      2        2    small    med\n",
              "2  vhigh  vhigh      2        2    small   high"
            ]
          },
          "metadata": {
            "tags": []
          },
          "execution_count": 165
        }
      ]
    },
    {
      "cell_type": "code",
      "metadata": {
        "colab": {
          "base_uri": "https://localhost:8080/"
        },
        "id": "Fm4vdClAVTl5",
        "outputId": "e5a2f8e0-fd6c-4bed-b70e-e8bc08ea3dc8"
      },
      "source": [
        "y.head(3)"
      ],
      "execution_count": 167,
      "outputs": [
        {
          "output_type": "execute_result",
          "data": {
            "text/plain": [
              "0    unacc\n",
              "1    unacc\n",
              "2    unacc\n",
              "Name: outcome, dtype: object"
            ]
          },
          "metadata": {
            "tags": []
          },
          "execution_count": 167
        }
      ]
    },
    {
      "cell_type": "markdown",
      "metadata": {
        "id": "EA-aT_gaV8Ta"
      },
      "source": [
        "#Applying Label Encoding for ordinal data on x"
      ]
    },
    {
      "cell_type": "code",
      "metadata": {
        "id": "8yjYZhalVTpR"
      },
      "source": [
        "from sklearn.preprocessing import LabelEncoder\n",
        "labelenc = LabelEncoder()\n",
        "x. iloc[:, [0,1,4,5]] = x. iloc[ :, [0,1,4,5]].apply(labelenc.fit_transform)"
      ],
      "execution_count": 168,
      "outputs": []
    },
    {
      "cell_type": "code",
      "metadata": {
        "colab": {
          "base_uri": "https://localhost:8080/",
          "height": 202
        },
        "id": "_SQIPZqZNQhD",
        "outputId": "db728c11-bdd7-4f28-f237-b03b78133b20"
      },
      "source": [
        "x.head( )"
      ],
      "execution_count": 50,
      "outputs": [
        {
          "output_type": "execute_result",
          "data": {
            "text/html": [
              "<div>\n",
              "<style scoped>\n",
              "    .dataframe tbody tr th:only-of-type {\n",
              "        vertical-align: middle;\n",
              "    }\n",
              "\n",
              "    .dataframe tbody tr th {\n",
              "        vertical-align: top;\n",
              "    }\n",
              "\n",
              "    .dataframe thead th {\n",
              "        text-align: right;\n",
              "    }\n",
              "</style>\n",
              "<table border=\"1\" class=\"dataframe\">\n",
              "  <thead>\n",
              "    <tr style=\"text-align: right;\">\n",
              "      <th></th>\n",
              "      <th>buying</th>\n",
              "      <th>maint</th>\n",
              "      <th>doors</th>\n",
              "      <th>persons</th>\n",
              "      <th>lug_boot</th>\n",
              "      <th>safety</th>\n",
              "    </tr>\n",
              "  </thead>\n",
              "  <tbody>\n",
              "    <tr>\n",
              "      <th>0</th>\n",
              "      <td>3</td>\n",
              "      <td>3</td>\n",
              "      <td>2</td>\n",
              "      <td>2</td>\n",
              "      <td>2</td>\n",
              "      <td>1</td>\n",
              "    </tr>\n",
              "    <tr>\n",
              "      <th>1</th>\n",
              "      <td>3</td>\n",
              "      <td>3</td>\n",
              "      <td>2</td>\n",
              "      <td>2</td>\n",
              "      <td>2</td>\n",
              "      <td>2</td>\n",
              "    </tr>\n",
              "    <tr>\n",
              "      <th>2</th>\n",
              "      <td>3</td>\n",
              "      <td>3</td>\n",
              "      <td>2</td>\n",
              "      <td>2</td>\n",
              "      <td>2</td>\n",
              "      <td>0</td>\n",
              "    </tr>\n",
              "    <tr>\n",
              "      <th>3</th>\n",
              "      <td>3</td>\n",
              "      <td>3</td>\n",
              "      <td>2</td>\n",
              "      <td>2</td>\n",
              "      <td>1</td>\n",
              "      <td>1</td>\n",
              "    </tr>\n",
              "    <tr>\n",
              "      <th>4</th>\n",
              "      <td>3</td>\n",
              "      <td>3</td>\n",
              "      <td>2</td>\n",
              "      <td>2</td>\n",
              "      <td>1</td>\n",
              "      <td>2</td>\n",
              "    </tr>\n",
              "  </tbody>\n",
              "</table>\n",
              "</div>"
            ],
            "text/plain": [
              "   buying  maint  doors  persons  lug_boot  safety\n",
              "0       3      3      2        2         2       1\n",
              "1       3      3      2        2         2       2\n",
              "2       3      3      2        2         2       0\n",
              "3       3      3      2        2         1       1\n",
              "4       3      3      2        2         1       2"
            ]
          },
          "metadata": {
            "tags": []
          },
          "execution_count": 50
        }
      ]
    },
    {
      "cell_type": "code",
      "metadata": {
        "colab": {
          "base_uri": "https://localhost:8080/"
        },
        "id": "2KNr3p9AaRld",
        "outputId": "4ff91f6c-6890-4501-a1e3-b9003dc5b229"
      },
      "source": [
        "print('Unique values after applying Label Encoding:')\n",
        "for col in list(x):\n",
        "  print(col)\n",
        "  print(x[col].unique())"
      ],
      "execution_count": 172,
      "outputs": [
        {
          "output_type": "stream",
          "text": [
            "Unique values after applying Label Encoding:\n",
            "buying\n",
            "[3 0 2 1]\n",
            "maint\n",
            "[3 0 2 1]\n",
            "doors\n",
            "[2 3 4 5]\n",
            "persons\n",
            "[2 4 5]\n",
            "lug_boot\n",
            "[2 1 0]\n",
            "safety\n",
            "[1 2 0]\n"
          ],
          "name": "stdout"
        }
      ]
    },
    {
      "cell_type": "code",
      "metadata": {
        "colab": {
          "base_uri": "https://localhost:8080/"
        },
        "id": "twSU3FCTM8Or",
        "outputId": "d36560c2-3541-4a20-c386-8338e163f148"
      },
      "source": [
        "for col in list(x):\n",
        "  print(col)\n",
        "  print(x[col].value_counts())"
      ],
      "execution_count": 169,
      "outputs": [
        {
          "output_type": "stream",
          "text": [
            "buying\n",
            "3    432\n",
            "2    432\n",
            "1    432\n",
            "0    432\n",
            "Name: buying, dtype: int64\n",
            "maint\n",
            "3    432\n",
            "2    432\n",
            "1    432\n",
            "0    432\n",
            "Name: maint, dtype: int64\n",
            "doors\n",
            "5    432\n",
            "4    432\n",
            "3    432\n",
            "2    432\n",
            "Name: doors, dtype: int64\n",
            "persons\n",
            "5    576\n",
            "4    576\n",
            "2    576\n",
            "Name: persons, dtype: int64\n",
            "lug_boot\n",
            "2    576\n",
            "1    576\n",
            "0    576\n",
            "Name: lug_boot, dtype: int64\n",
            "safety\n",
            "2    576\n",
            "1    576\n",
            "0    576\n",
            "Name: safety, dtype: int64\n"
          ],
          "name": "stdout"
        }
      ]
    },
    {
      "cell_type": "code",
      "metadata": {
        "colab": {
          "base_uri": "https://localhost:8080/"
        },
        "id": "D2pXwcH6asJ0",
        "outputId": "10916dc3-e784-4cfd-a956-86d55a36d7d4"
      },
      "source": [
        "y.value_counts()"
      ],
      "execution_count": 175,
      "outputs": [
        {
          "output_type": "execute_result",
          "data": {
            "text/plain": [
              "unacc    1210\n",
              "acc       384\n",
              "good       69\n",
              "vgood      65\n",
              "Name: outcome, dtype: int64"
            ]
          },
          "metadata": {
            "tags": []
          },
          "execution_count": 175
        }
      ]
    },
    {
      "cell_type": "markdown",
      "metadata": {
        "id": "FiJK6wAgbCh7"
      },
      "source": [
        "#Slpitting the data"
      ]
    },
    {
      "cell_type": "code",
      "metadata": {
        "id": "TsffwngUYFx4"
      },
      "source": [
        "from sklearn.model_selection import train_test_split\n",
        "x_train, x_test, y_train, y_test = train_test_split(x,y, test_size = 0.2, random_state = 10, )"
      ],
      "execution_count": 53,
      "outputs": []
    },
    {
      "cell_type": "markdown",
      "metadata": {
        "id": "17gGdVThbI-p"
      },
      "source": [
        "#Applying KNN Model without using imbalance data techniques"
      ]
    },
    {
      "cell_type": "markdown",
      "metadata": {
        "id": "GI-uEupFvpUW"
      },
      "source": [
        "\n",
        "1.   The below line contains knn model, accuracy, confusion matrix and classification report importing \n",
        "2.   Passing x_train and y_train (With out smote technique) to the model\n",
        "3.   Predicting the x_test value by our model and checking accuracy b/w y_test and predicted values on x_test\n",
        "4. Checking confusion matrix, classifier report and heatmap"
      ]
    },
    {
      "cell_type": "code",
      "metadata": {
        "colab": {
          "base_uri": "https://localhost:8080/",
          "height": 411
        },
        "id": "B-0SJRKNYFtg",
        "outputId": "ec8a6758-c7ad-416b-8cc9-9cfc0d929c3d"
      },
      "source": [
        "from sklearn.neighbors import KNeighborsClassifier\n",
        "from sklearn.metrics import accuracy_score\n",
        "from sklearn.metrics import confusion_matrix, classification_report\n",
        "model = KNeighborsClassifier()\n",
        "model.fit(x_train, y_train)\n",
        "y_pred_knn = model.predict(x_test)\n",
        "print('Accuracy:',accuracy_score(y_test, y_pred_knn))\n",
        "print('Confusion Matrix:')\n",
        "print(confusion_matrix(y_test, y_pred_knn))\n",
        "print('Heatmap on confusion matrix')\n",
        "sb.heatmap(confusion_matrix(y_test, y_pred_knn),annot = True)"
      ],
      "execution_count": 301,
      "outputs": [
        {
          "output_type": "stream",
          "text": [
            "Accuracy: 0.9566473988439307\n",
            "Confusion Matrix:\n",
            "[[ 61   1   2   0]\n",
            " [  3   9   1   0]\n",
            " [  1   0 250   0]\n",
            " [  4   3   0  11]]\n",
            "Heatmap on confusion matrix\n"
          ],
          "name": "stdout"
        },
        {
          "output_type": "execute_result",
          "data": {
            "text/plain": [
              "<matplotlib.axes._subplots.AxesSubplot at 0x7fb4819a94d0>"
            ]
          },
          "metadata": {
            "tags": []
          },
          "execution_count": 301
        },
        {
          "output_type": "display_data",
          "data": {
            "image/png": "[encoded data removed]",
            "text/plain": [
              "<Figure size 432x288 with 2 Axes>"
            ]
          },
          "metadata": {
            "tags": [],
            "needs_background": "light"
          }
        }
      ]
    },
    {
      "cell_type": "code",
      "metadata": {
        "colab": {
          "base_uri": "https://localhost:8080/"
        },
        "id": "osvmZ9e_vetX",
        "outputId": "3b1fd26a-34a2-4168-e0e4-cde68c2f9dca"
      },
      "source": [
        "print('Classification Report')\n",
        "print(classification_report(y_test, y_pred_knn))"
      ],
      "execution_count": 302,
      "outputs": [
        {
          "output_type": "stream",
          "text": [
            "Classification Report\n",
            "              precision    recall  f1-score   support\n",
            "\n",
            "         acc       0.88      0.95      0.92        64\n",
            "        good       0.69      0.69      0.69        13\n",
            "       unacc       0.99      1.00      0.99       251\n",
            "       vgood       1.00      0.61      0.76        18\n",
            "\n",
            "    accuracy                           0.96       346\n",
            "   macro avg       0.89      0.81      0.84       346\n",
            "weighted avg       0.96      0.96      0.95       346\n",
            "\n"
          ],
          "name": "stdout"
        }
      ]
    },
    {
      "cell_type": "markdown",
      "metadata": {
        "id": "eQh8qMiwbze9"
      },
      "source": [
        "#Crosstab"
      ]
    },
    {
      "cell_type": "code",
      "metadata": {
        "colab": {
          "base_uri": "https://localhost:8080/",
          "height": 202
        },
        "id": "hHvwNBsUYFk-",
        "outputId": "231869a9-0b73-4f6b-a804-1177f9bac5d4"
      },
      "source": [
        " pd.crosstab(y_test,y_pred_knn)"
      ],
      "execution_count": 67,
      "outputs": [
        {
          "output_type": "execute_result",
          "data": {
            "text/html": [
              "<div>\n",
              "<style scoped>\n",
              "    .dataframe tbody tr th:only-of-type {\n",
              "        vertical-align: middle;\n",
              "    }\n",
              "\n",
              "    .dataframe tbody tr th {\n",
              "        vertical-align: top;\n",
              "    }\n",
              "\n",
              "    .dataframe thead th {\n",
              "        text-align: right;\n",
              "    }\n",
              "</style>\n",
              "<table border=\"1\" class=\"dataframe\">\n",
              "  <thead>\n",
              "    <tr style=\"text-align: right;\">\n",
              "      <th>col_0</th>\n",
              "      <th>acc</th>\n",
              "      <th>good</th>\n",
              "      <th>unacc</th>\n",
              "      <th>vgood</th>\n",
              "    </tr>\n",
              "    <tr>\n",
              "      <th>outcome</th>\n",
              "      <th></th>\n",
              "      <th></th>\n",
              "      <th></th>\n",
              "      <th></th>\n",
              "    </tr>\n",
              "  </thead>\n",
              "  <tbody>\n",
              "    <tr>\n",
              "      <th>acc</th>\n",
              "      <td>61</td>\n",
              "      <td>1</td>\n",
              "      <td>2</td>\n",
              "      <td>0</td>\n",
              "    </tr>\n",
              "    <tr>\n",
              "      <th>good</th>\n",
              "      <td>3</td>\n",
              "      <td>9</td>\n",
              "      <td>1</td>\n",
              "      <td>0</td>\n",
              "    </tr>\n",
              "    <tr>\n",
              "      <th>unacc</th>\n",
              "      <td>1</td>\n",
              "      <td>0</td>\n",
              "      <td>250</td>\n",
              "      <td>0</td>\n",
              "    </tr>\n",
              "    <tr>\n",
              "      <th>vgood</th>\n",
              "      <td>4</td>\n",
              "      <td>3</td>\n",
              "      <td>0</td>\n",
              "      <td>11</td>\n",
              "    </tr>\n",
              "  </tbody>\n",
              "</table>\n",
              "</div>"
            ],
            "text/plain": [
              "col_0    acc  good  unacc  vgood\n",
              "outcome                         \n",
              "acc       61     1      2      0\n",
              "good       3     9      1      0\n",
              "unacc      1     0    250      0\n",
              "vgood      4     3      0     11"
            ]
          },
          "metadata": {
            "tags": []
          },
          "execution_count": 67
        }
      ]
    },
    {
      "cell_type": "code",
      "metadata": {
        "id": "9diYZlhJYFep"
      },
      "source": [
        "df1 = pd.crosstab(y_test,y_pred_knn)\n",
        "df1['sum'] = df1[df1.columns].apply(sum)"
      ],
      "execution_count": 81,
      "outputs": []
    },
    {
      "cell_type": "code",
      "metadata": {
        "colab": {
          "base_uri": "https://localhost:8080/",
          "height": 202
        },
        "id": "cZH3nEDpYFcA",
        "outputId": "275b63a5-d343-4a6c-da75-d1746b6c744c"
      },
      "source": [
        "df1"
      ],
      "execution_count": 82,
      "outputs": [
        {
          "output_type": "execute_result",
          "data": {
            "text/html": [
              "<div>\n",
              "<style scoped>\n",
              "    .dataframe tbody tr th:only-of-type {\n",
              "        vertical-align: middle;\n",
              "    }\n",
              "\n",
              "    .dataframe tbody tr th {\n",
              "        vertical-align: top;\n",
              "    }\n",
              "\n",
              "    .dataframe thead th {\n",
              "        text-align: right;\n",
              "    }\n",
              "</style>\n",
              "<table border=\"1\" class=\"dataframe\">\n",
              "  <thead>\n",
              "    <tr style=\"text-align: right;\">\n",
              "      <th>col_0</th>\n",
              "      <th>acc</th>\n",
              "      <th>good</th>\n",
              "      <th>unacc</th>\n",
              "      <th>vgood</th>\n",
              "      <th>sum</th>\n",
              "    </tr>\n",
              "    <tr>\n",
              "      <th>outcome</th>\n",
              "      <th></th>\n",
              "      <th></th>\n",
              "      <th></th>\n",
              "      <th></th>\n",
              "      <th></th>\n",
              "    </tr>\n",
              "  </thead>\n",
              "  <tbody>\n",
              "    <tr>\n",
              "      <th>acc</th>\n",
              "      <td>61</td>\n",
              "      <td>1</td>\n",
              "      <td>2</td>\n",
              "      <td>0</td>\n",
              "      <td>69</td>\n",
              "    </tr>\n",
              "    <tr>\n",
              "      <th>good</th>\n",
              "      <td>3</td>\n",
              "      <td>9</td>\n",
              "      <td>1</td>\n",
              "      <td>0</td>\n",
              "      <td>13</td>\n",
              "    </tr>\n",
              "    <tr>\n",
              "      <th>unacc</th>\n",
              "      <td>1</td>\n",
              "      <td>0</td>\n",
              "      <td>250</td>\n",
              "      <td>0</td>\n",
              "      <td>253</td>\n",
              "    </tr>\n",
              "    <tr>\n",
              "      <th>vgood</th>\n",
              "      <td>4</td>\n",
              "      <td>3</td>\n",
              "      <td>0</td>\n",
              "      <td>11</td>\n",
              "      <td>11</td>\n",
              "    </tr>\n",
              "  </tbody>\n",
              "</table>\n",
              "</div>"
            ],
            "text/plain": [
              "col_0    acc  good  unacc  vgood  sum\n",
              "outcome                              \n",
              "acc       61     1      2      0   69\n",
              "good       3     9      1      0   13\n",
              "unacc      1     0    250      0  253\n",
              "vgood      4     3      0     11   11"
            ]
          },
          "metadata": {
            "tags": []
          },
          "execution_count": 82
        }
      ]
    },
    {
      "cell_type": "markdown",
      "metadata": {
        "id": "XWkclErVwI4I"
      },
      "source": [
        "#Applying Sampling Techniques\n",
        "1.Under Sampling"
      ]
    },
    {
      "cell_type": "code",
      "metadata": {
        "id": "BDRUCM3JcuFa"
      },
      "source": [
        "import imblearn"
      ],
      "execution_count": 186,
      "outputs": []
    },
    {
      "cell_type": "code",
      "metadata": {
        "id": "veKz4DVTwDt4"
      },
      "source": [
        "from collections import Counter\n",
        "from imblearn.under_sampling import NearMiss\n",
        "ns=NearMiss(0.9)\n",
        "x_train_us,y_train_us = ns.fit_sample(x_train, y_train)\n",
        "print(\"The number of classes before fit {}\".format(Counter(y_train)))\n",
        "print(\"The number of classes after fit {}\".format(Counter(y_train_us)))"
      ],
      "execution_count": null,
      "outputs": []
    },
    {
      "cell_type": "markdown",
      "metadata": {
        "id": "CcJ7OA1ZimNo"
      },
      "source": [
        "2. Over Sampling"
      ]
    },
    {
      "cell_type": "code",
      "metadata": {
        "id": "SRYXtTL-wU1_"
      },
      "source": [
        "from imblearn.over_sampling import RandomOverSampler\n",
        "os=RandomOverSampler(0.75)\n",
        "x_train_os,y_train_os=os.fit_sample(x_train,y_train)\n",
        "print(\"The number of classes before fit {}\".format(Counter(y_train)))\n",
        "print(\"The number of classes after fit {}\".format(Counter(y_train_os)))"
      ],
      "execution_count": null,
      "outputs": []
    },
    {
      "cell_type": "markdown",
      "metadata": {
        "id": "h_Secabuij76"
      },
      "source": [
        "3.SMOTE"
      ]
    },
    {
      "cell_type": "code",
      "metadata": {
        "id": "l3AyzriPtME4"
      },
      "source": [
        "from imblearn.over_sampling import SMOTE\n",
        "smote = SMOTE()"
      ],
      "execution_count": 202,
      "outputs": []
    },
    {
      "cell_type": "code",
      "metadata": {
        "colab": {
          "base_uri": "https://localhost:8080/"
        },
        "id": "Izy5GiGGtMCT",
        "outputId": "aa4a81c6-1f7b-4fc2-e5db-4208cbf30c24"
      },
      "source": [
        "x_train_smote, y_train_smote = smote.fit_sample(x_train.astype('float'), y_train)"
      ],
      "execution_count": 211,
      "outputs": [
        {
          "output_type": "stream",
          "text": [
            "/usr/local/lib/python3.7/dist-packages/sklearn/utils/deprecation.py:87: FutureWarning: Function safe_indexing is deprecated; safe_indexing is deprecated in version 0.22 and will be removed in version 0.24.\n",
            "  warnings.warn(msg, category=FutureWarning)\n",
            "/usr/local/lib/python3.7/dist-packages/sklearn/utils/deprecation.py:87: FutureWarning: Function safe_indexing is deprecated; safe_indexing is deprecated in version 0.22 and will be removed in version 0.24.\n",
            "  warnings.warn(msg, category=FutureWarning)\n",
            "/usr/local/lib/python3.7/dist-packages/sklearn/utils/deprecation.py:87: FutureWarning: Function safe_indexing is deprecated; safe_indexing is deprecated in version 0.22 and will be removed in version 0.24.\n",
            "  warnings.warn(msg, category=FutureWarning)\n"
          ],
          "name": "stderr"
        }
      ]
    },
    {
      "cell_type": "code",
      "metadata": {
        "colab": {
          "base_uri": "https://localhost:8080/"
        },
        "id": "nr9_R-iotL_F",
        "outputId": "08b272ea-c076-4d69-ca6a-99b476b831ff"
      },
      "source": [
        "from collections import Counter\n",
        "print('Before doing Smote:',Counter(y_train))\n",
        "print('After doing Smote:',Counter(y_train_smote))"
      ],
      "execution_count": 212,
      "outputs": [
        {
          "output_type": "stream",
          "text": [
            "Before doing Smote: Counter({'unacc': 959, 'acc': 320, 'good': 56, 'vgood': 47})\n",
            "After doing Smote: Counter({'unacc': 959, 'good': 959, 'vgood': 959, 'acc': 959})\n"
          ],
          "name": "stdout"
        }
      ]
    },
    {
      "cell_type": "markdown",
      "metadata": {
        "id": "B1RERwNVoguc"
      },
      "source": [
        "#Applying model to the data which under gone for Smote\n",
        "\n",
        "1.   The below line contains knn model, accuracy, confusion matrix and classification report importing \n",
        "2.   Passing x_train and y_train (With smote technique) to the model\n",
        "3.   Predicting the x_test value by our model and checking accuracy b/w y_test and predicted values on x_test\n",
        "4. Checking confusion matrix, classifier report and heatmap"
      ]
    },
    {
      "cell_type": "code",
      "metadata": {
        "colab": {
          "base_uri": "https://localhost:8080/",
          "height": 406
        },
        "id": "GWhzeYfdtL8G",
        "outputId": "1ccfd1e1-46d5-4d0c-da84-249625b10629"
      },
      "source": [
        "from sklearn.neighbors import KNeighborsClassifier\n",
        "model = KNeighborsClassifier()\n",
        "model.fit(x_train_smote, y_train_smote)\n",
        "y_pred_knn_smote = model.predict(x_test)\n",
        "print('Accuracy:',accuracy_score(y_test, y_pred_knn_smote))\n",
        "print('Confusion Matrix:')\n",
        "print(confusion_matrix(y_test, y_pred_knn_smote))\n",
        "print('Heatmap on confusion matrix')\n",
        "sb.heatmap(confusion_matrix(y_test, y_pred_knn_smote), annot=True)"
      ],
      "execution_count": 303,
      "outputs": [
        {
          "output_type": "stream",
          "text": [
            "Accuracy: 0.9624277456647399\n",
            "Confusion Matrix:\n",
            "[[ 59   1   3   1]\n",
            " [  1  12   0   0]\n",
            " [  5   0 246   0]\n",
            " [  0   2   0  16]]\n",
            "Heatmap on confusion matrix\n"
          ],
          "name": "stdout"
        },
        {
          "output_type": "execute_result",
          "data": {
            "text/plain": [
              "<matplotlib.axes._subplots.AxesSubplot at 0x7fb48197e950>"
            ]
          },
          "metadata": {
            "tags": []
          },
          "execution_count": 303
        },
        {
          "output_type": "display_data",
          "data": {
            "image/png": "[encoded data removed]",
            "text/plain": [
              "<Figure size 432x288 with 2 Axes>"
            ]
          },
          "metadata": {
            "tags": [],
            "needs_background": "light"
          }
        }
      ]
    },
    {
      "cell_type": "code",
      "metadata": {
        "colab": {
          "base_uri": "https://localhost:8080/"
        },
        "id": "dWiKGZZhnMfu",
        "outputId": "58d71513-6c5a-4f97-e8ae-875b5a88cd03"
      },
      "source": [
        "print('Classification Report')\n",
        "print(classification_report(y_test, y_pred_knn_smote))"
      ],
      "execution_count": 304,
      "outputs": [
        {
          "output_type": "stream",
          "text": [
            "Classification Report\n",
            "              precision    recall  f1-score   support\n",
            "\n",
            "         acc       0.91      0.92      0.91        64\n",
            "        good       0.80      0.92      0.86        13\n",
            "       unacc       0.99      0.98      0.98       251\n",
            "       vgood       0.94      0.89      0.91        18\n",
            "\n",
            "    accuracy                           0.96       346\n",
            "   macro avg       0.91      0.93      0.92       346\n",
            "weighted avg       0.96      0.96      0.96       346\n",
            "\n"
          ],
          "name": "stdout"
        }
      ]
    },
    {
      "cell_type": "markdown",
      "metadata": {
        "id": "uzuMc7EGm9W7"
      },
      "source": [
        "#Crosstab"
      ]
    },
    {
      "cell_type": "code",
      "metadata": {
        "colab": {
          "base_uri": "https://localhost:8080/"
        },
        "id": "wV7QmiZplkAA",
        "outputId": "fc5d3c0e-6aa2-48cc-ca36-910f77ae4eae"
      },
      "source": [
        "print('Crosstab knn without smote')\n",
        "print(pd.crosstab(y_test, y_pred_knn))\n",
        "print('Crosstab knn with smote')\n",
        "print(pd.crosstab(y_test, y_pred_knn_smote))"
      ],
      "execution_count": 323,
      "outputs": [
        {
          "output_type": "stream",
          "text": [
            "Crosstab knn without smote\n",
            "col_0    acc  good  unacc  vgood\n",
            "outcome                         \n",
            "acc       61     1      2      0\n",
            "good       3     9      1      0\n",
            "unacc      1     0    250      0\n",
            "vgood      4     3      0     11\n",
            "Crosstab knn with smote\n",
            "col_0    acc  good  unacc  vgood\n",
            "outcome                         \n",
            "acc       59     1      3      1\n",
            "good       1    12      0      0\n",
            "unacc      5     0    246      0\n",
            "vgood      0     2      0     16\n"
          ],
          "name": "stdout"
        }
      ]
    },
    {
      "cell_type": "code",
      "metadata": {
        "colab": {
          "base_uri": "https://localhost:8080/"
        },
        "id": "mqF_KRi0kBmx",
        "outputId": "03d8050d-2ef0-4887-d533-db6ef2f43f3a"
      },
      "source": [
        "print('Before Smote the accuracy On KNN Model is:', acc_knn)\n",
        "print('After Smote the accuracy On KNN Model is:', acc_knn_smote)"
      ],
      "execution_count": 325,
      "outputs": [
        {
          "output_type": "stream",
          "text": [
            "Before Smote the accuracy On KNN Model is: 0.9566473988439307\n",
            "After Smote the accuracy On KNN Model is: 0.9624277456647399\n"
          ],
          "name": "stdout"
        }
      ]
    },
    {
      "cell_type": "markdown",
      "metadata": {
        "id": "z-tk80pTo_vW"
      },
      "source": [
        "#Random Forest Classifier:Model (without Smote)\n",
        "\n",
        "1.   The below line contains random forest model, accuracy, confusion matrix and classification report importing \n",
        "2.   Passing x_train and y_train (With out smote technique) to the model\n",
        "3.   Predicting the x_test value by our model and checking accuracy b/w y_test and predicted values on x_test\n",
        "4. Checking confusion matrix, classifier report and heatmap\n",
        "\n"
      ]
    },
    {
      "cell_type": "code",
      "metadata": {
        "colab": {
          "base_uri": "https://localhost:8080/",
          "height": 410
        },
        "id": "mC6WKUtzo-9q",
        "outputId": "6f97c858-87c2-4be6-d756-71beccc7a135"
      },
      "source": [
        "from sklearn.ensemble import RandomForestClassifier\n",
        "random = RandomForestClassifier()\n",
        "random.fit(x_train,y_train)\n",
        "y_pred_rand = random.predict(x_test)\n",
        "print('Accuracy:', accuracy_score(y_test, y_pred_rand))\n",
        "print('Confusion Matrix:')\n",
        "print(confusion_matrix(y_test, y_pred_rand))\n",
        "print('Heatmap on Confusion Matrix:')\n",
        "sb.heatmap(confusion_matrix(y_test, y_pred_rand), annot=True)"
      ],
      "execution_count": 295,
      "outputs": [
        {
          "output_type": "stream",
          "text": [
            "Accuracy: 0.9942196531791907\n",
            "Confusion Matrix:\n",
            "[[ 63   0   1   0]\n",
            " [  0  13   0   0]\n",
            " [  0   0 251   0]\n",
            " [  1   0   0  17]]\n",
            "Heatmap on Confusion Matrix:\n"
          ],
          "name": "stdout"
        },
        {
          "output_type": "execute_result",
          "data": {
            "text/plain": [
              "<matplotlib.axes._subplots.AxesSubplot at 0x7fb4a6c19750>"
            ]
          },
          "metadata": {
            "tags": []
          },
          "execution_count": 295
        },
        {
          "output_type": "display_data",
          "data": {
            "image/png": "[encoded data removed]",
            "text/plain": [
              "<Figure size 432x288 with 2 Axes>"
            ]
          },
          "metadata": {
            "tags": [],
            "needs_background": "light"
          }
        }
      ]
    },
    {
      "cell_type": "code",
      "metadata": {
        "colab": {
          "base_uri": "https://localhost:8080/"
        },
        "id": "uJNwCtX9o-6z",
        "outputId": "627df032-3914-4d19-ec14-9f9087698f7d"
      },
      "source": [
        "print('Classification Report:')\n",
        "print(classification_report(y_test, y_pred_rand))"
      ],
      "execution_count": 290,
      "outputs": [
        {
          "output_type": "stream",
          "text": [
            "Classification Report:\n",
            "              precision    recall  f1-score   support\n",
            "\n",
            "         acc       0.97      0.98      0.98        64\n",
            "        good       0.93      1.00      0.96        13\n",
            "       unacc       1.00      0.99      1.00       251\n",
            "       vgood       1.00      1.00      1.00        18\n",
            "\n",
            "    accuracy                           0.99       346\n",
            "   macro avg       0.97      0.99      0.98       346\n",
            "weighted avg       0.99      0.99      0.99       346\n",
            "\n"
          ],
          "name": "stdout"
        }
      ]
    },
    {
      "cell_type": "markdown",
      "metadata": {
        "id": "GzCN3rmGqPIM"
      },
      "source": [
        "#Random Forest Classifier:Model (with Smote)\n",
        "\n",
        "1.   The below line contains knn model, accuracy, confusion matrix and classification report importing \n",
        "2.   Passing x_train and y_train (With  smote technique) to the model\n",
        "3.   Predicting the x_test value by our model and checking accuracy b/w y_test and predicted values on x_test\n",
        "4. Checking confusion matrix, classifier report and heatmap\n",
        "\n"
      ]
    },
    {
      "cell_type": "code",
      "metadata": {
        "colab": {
          "base_uri": "https://localhost:8080/",
          "height": 388
        },
        "id": "mf0m5rYao-kj",
        "outputId": "d4aa6e43-50e9-4e74-b21d-e556623f4508"
      },
      "source": [
        "from sklearn.ensemble import RandomForestClassifier\n",
        "random1 = RandomForestClassifier()\n",
        "random1.fit(x_train_smote,y_train_smote)\n",
        "y_pred_rand_smote = random1.predict(x_test)\n",
        "print('Accuracy:',accuracy_score(y_test, y_pred_rand_smote))\n",
        "print('Confusion Matrix:')\n",
        "print(confusion_matrix(y_test, y_pred_rand_smote))\n",
        "print('Heatmap for confution matrix:')\n",
        "sb.heatmap(confusion_matrix(y_test, y_pred_rand_smote), annot=True)\n",
        "plt.show()"
      ],
      "execution_count": 296,
      "outputs": [
        {
          "output_type": "stream",
          "text": [
            "Accuracy: 0.9913294797687862\n",
            "Confusion Matrix:\n",
            "[[ 64   0   0   0]\n",
            " [  0  13   0   0]\n",
            " [  3   0 248   0]\n",
            " [  0   0   0  18]]\n",
            "Heatmap for confution matrix:\n"
          ],
          "name": "stdout"
        },
        {
          "output_type": "display_data",
          "data": {
            "image/png": "[encoded data removed]",
            "text/plain": [
              "<Figure size 432x288 with 2 Axes>"
            ]
          },
          "metadata": {
            "tags": [],
            "needs_background": "light"
          }
        }
      ]
    },
    {
      "cell_type": "code",
      "metadata": {
        "colab": {
          "base_uri": "https://localhost:8080/"
        },
        "id": "m6jOwsH8ssJ_",
        "outputId": "34da186f-3e82-43b3-b948-79e7520de557"
      },
      "source": [
        "print('Classifier Report:')\n",
        "print(classification_report(y_test, y_pred_rand_smote))"
      ],
      "execution_count": 286,
      "outputs": [
        {
          "output_type": "stream",
          "text": [
            "Classifier Report:\n",
            "              precision    recall  f1-score   support\n",
            "\n",
            "         acc       0.95      0.98      0.97        64\n",
            "        good       0.87      1.00      0.93        13\n",
            "       unacc       1.00      0.99      0.99       251\n",
            "       vgood       1.00      0.94      0.97        18\n",
            "\n",
            "    accuracy                           0.99       346\n",
            "   macro avg       0.96      0.98      0.97       346\n",
            "weighted avg       0.99      0.99      0.99       346\n",
            "\n"
          ],
          "name": "stdout"
        }
      ]
    },
    {
      "cell_type": "code",
      "metadata": {
        "colab": {
          "base_uri": "https://localhost:8080/"
        },
        "id": "A_3_eTle2uQ2",
        "outputId": "f854e56c-61f6-4db6-980b-a9157158526b"
      },
      "source": [
        "print('Crosstab random forest classifier without smote')\n",
        "print(pd.crosstab(y_test, y_pred_rand))\n",
        "print('Crosstab random forest classifier with smote')\n",
        "print(pd.crosstab(y_test, y_pred_rand_smote))"
      ],
      "execution_count": 321,
      "outputs": [
        {
          "output_type": "stream",
          "text": [
            "Crosstab random forest classifier without smote\n",
            "col_0    acc  good  unacc  vgood\n",
            "outcome                         \n",
            "acc       63     0      1      0\n",
            "good       0    13      0      0\n",
            "unacc      0     0    251      0\n",
            "vgood      1     0      0     17\n",
            "Crosstab random forest classifier with smote\n",
            "col_0    acc  good  unacc  vgood\n",
            "outcome                         \n",
            "acc       64     0      0      0\n",
            "good       0    13      0      0\n",
            "unacc      3     0    248      0\n",
            "vgood      0     0      0     18\n"
          ],
          "name": "stdout"
        }
      ]
    },
    {
      "cell_type": "markdown",
      "metadata": {
        "id": "EwYS9a3L0zW4"
      },
      "source": [
        "#Support Vector Classifier:Model (with out Smote)\n",
        "\n",
        "1.   The below line contains svc model, accuracy, confusion matrix and classification report importing \n",
        "2.   Passing x_train and y_train (With  out smote technique) to the model\n",
        "3.   Predicting the x_test value by our model and checking accuracy b/w y_test and predicted values on x_test\n",
        "4. Checking confusion matrix, classifier report and heatmap"
      ]
    },
    {
      "cell_type": "code",
      "metadata": {
        "colab": {
          "base_uri": "https://localhost:8080/",
          "height": 401
        },
        "id": "uwO1-0i1y_ci",
        "outputId": "4f8c2712-ac52-4177-cb07-78fa80840b85"
      },
      "source": [
        "from sklearn.svm import  SVC\n",
        "svc = SVC()\n",
        "svc.fit(x_train,y_train)\n",
        "y_pred_svc = svc.predict(x_test)\n",
        "print('Accuracy:', accuracy_score(y_test, y_pred_svc))\n",
        "print('Confusion Matrix:')\n",
        "print(confusion_matrix(y_test, y_pred_svc))\n",
        "print('Heatmap on Confusion Matrix:')\n",
        "sb.heatmap(confusion_matrix(y_test, y_pred_svc), annot=True)"
      ],
      "execution_count": 312,
      "outputs": [
        {
          "output_type": "stream",
          "text": [
            "Accuracy: 0.8236994219653179\n",
            "Confusion Matrix:\n",
            "[[ 35   0  29   0]\n",
            " [ 10   0   3   0]\n",
            " [  6   0 245   0]\n",
            " [ 13   0   0   5]]\n",
            "Heatmap on Confusion Matrix:\n"
          ],
          "name": "stdout"
        },
        {
          "output_type": "execute_result",
          "data": {
            "text/plain": [
              "<matplotlib.axes._subplots.AxesSubplot at 0x7fb482e7b450>"
            ]
          },
          "metadata": {
            "tags": []
          },
          "execution_count": 312
        },
        {
          "output_type": "display_data",
          "data": {
            "image/png": "[encoded data removed]",
            "text/plain": [
              "<Figure size 432x288 with 2 Axes>"
            ]
          },
          "metadata": {
            "tags": [],
            "needs_background": "light"
          }
        }
      ]
    },
    {
      "cell_type": "code",
      "metadata": {
        "colab": {
          "base_uri": "https://localhost:8080/"
        },
        "id": "xpymPm8Xy_Zx",
        "outputId": "401bb03e-d93e-4dc7-f483-b043d72f105e"
      },
      "source": [
        "print('Classifier Report:')\n",
        "print(classification_report(y_test, y_pred_svc))"
      ],
      "execution_count": 313,
      "outputs": [
        {
          "output_type": "stream",
          "text": [
            "Classifier Report:\n",
            "              precision    recall  f1-score   support\n",
            "\n",
            "         acc       0.55      0.55      0.55        64\n",
            "        good       0.00      0.00      0.00        13\n",
            "       unacc       0.88      0.98      0.93       251\n",
            "       vgood       1.00      0.28      0.43        18\n",
            "\n",
            "    accuracy                           0.82       346\n",
            "   macro avg       0.61      0.45      0.48       346\n",
            "weighted avg       0.79      0.82      0.80       346\n",
            "\n"
          ],
          "name": "stdout"
        },
        {
          "output_type": "stream",
          "text": [
            "/usr/local/lib/python3.7/dist-packages/sklearn/metrics/_classification.py:1272: UndefinedMetricWarning: Precision and F-score are ill-defined and being set to 0.0 in labels with no predicted samples. Use `zero_division` parameter to control this behavior.\n",
            "  _warn_prf(average, modifier, msg_start, len(result))\n"
          ],
          "name": "stderr"
        }
      ]
    },
    {
      "cell_type": "markdown",
      "metadata": {
        "id": "zObeestj1YoC"
      },
      "source": [
        "#Support Vector Classifier:Model (with Smote)\n",
        "\n",
        "1.   The below line contains svc model, accuracy, confusion matrix and classification report importing \n",
        "2.   Passing x_train and y_train (With smote technique) to the model\n",
        "3.   Predicting the x_test value by our model and checking accuracy b/w y_test and predicted values on x_test\n",
        "4. Checking confusion matrix, classifier report and heatmap"
      ]
    },
    {
      "cell_type": "code",
      "metadata": {
        "colab": {
          "base_uri": "https://localhost:8080/",
          "height": 401
        },
        "id": "o5fK3xGdy_Wr",
        "outputId": "ef40c492-a8ce-4223-b954-74e2a7c7e240"
      },
      "source": [
        "from sklearn.svm import  SVC\n",
        "svc = SVC()\n",
        "svc.fit(x_train_smote,y_train_smote)\n",
        "y_pred_svc_smote = svc.predict(x_test)\n",
        "print('Accuracy:', accuracy_score(y_test, y_pred_svc_smote))\n",
        "print('Confusion Matrix:')\n",
        "print(confusion_matrix(y_test, y_pred_svc_smote))\n",
        "print('Heatmap on Confusion Matrix:')\n",
        "sb.heatmap(confusion_matrix(y_test, y_pred_svc_smote), annot=True)"
      ],
      "execution_count": 314,
      "outputs": [
        {
          "output_type": "stream",
          "text": [
            "Accuracy: 0.8641618497109826\n",
            "Confusion Matrix:\n",
            "[[ 58   5   0   1]\n",
            " [  0  13   0   0]\n",
            " [ 32   9 210   0]\n",
            " [  0   0   0  18]]\n",
            "Heatmap on Confusion Matrix:\n"
          ],
          "name": "stdout"
        },
        {
          "output_type": "execute_result",
          "data": {
            "text/plain": [
              "<matplotlib.axes._subplots.AxesSubplot at 0x7fb482e018d0>"
            ]
          },
          "metadata": {
            "tags": []
          },
          "execution_count": 314
        },
        {
          "output_type": "display_data",
          "data": {
            "image/png": "[encoded data removed]",
            "text/plain": [
              "<Figure size 432x288 with 2 Axes>"
            ]
          },
          "metadata": {
            "tags": [],
            "needs_background": "light"
          }
        }
      ]
    },
    {
      "cell_type": "code",
      "metadata": {
        "colab": {
          "base_uri": "https://localhost:8080/"
        },
        "id": "9cL2DjEG1yMx",
        "outputId": "fd6d7314-f335-459c-9197-456933465f4e"
      },
      "source": [
        "print('Classifier Report:')\n",
        "print(classification_report(y_test, y_pred_svc_smote))"
      ],
      "execution_count": 315,
      "outputs": [
        {
          "output_type": "stream",
          "text": [
            "Classifier Report:\n",
            "              precision    recall  f1-score   support\n",
            "\n",
            "         acc       0.64      0.91      0.75        64\n",
            "        good       0.48      1.00      0.65        13\n",
            "       unacc       1.00      0.84      0.91       251\n",
            "       vgood       0.95      1.00      0.97        18\n",
            "\n",
            "    accuracy                           0.86       346\n",
            "   macro avg       0.77      0.94      0.82       346\n",
            "weighted avg       0.91      0.86      0.88       346\n",
            "\n"
          ],
          "name": "stdout"
        }
      ]
    },
    {
      "cell_type": "code",
      "metadata": {
        "colab": {
          "base_uri": "https://localhost:8080/"
        },
        "id": "TY7ndMNI11dR",
        "outputId": "802cbcb1-f95a-447b-c4e7-a33c10956c49"
      },
      "source": [
        "print('Crosstab SVC without smote')\n",
        "print(pd.crosstab(y_test, y_pred_svc))\n",
        "print('Crosstab SVC with smote')\n",
        "print(pd.crosstab(y_test, y_pred_svc_smote))"
      ],
      "execution_count": 320,
      "outputs": [
        {
          "output_type": "stream",
          "text": [
            "Crosstab SVC without smote\n",
            "col_0    acc  unacc  vgood\n",
            "outcome                   \n",
            "acc       35     29      0\n",
            "good      10      3      0\n",
            "unacc      6    245      0\n",
            "vgood     13      0      5\n",
            "Crosstab SVC with smote\n",
            "col_0    acc  good  unacc  vgood\n",
            "outcome                         \n",
            "acc       58     5      0      1\n",
            "good       0    13      0      0\n",
            "unacc     32     9    210      0\n",
            "vgood      0     0      0     18\n"
          ],
          "name": "stdout"
        }
      ]
    },
    {
      "cell_type": "markdown",
      "metadata": {
        "id": "U7gC3wbJFb1x"
      },
      "source": [
        "#Extra Tree Classifier:Model (with out Smote)\n",
        "\n",
        "1.   The below line contains Extra Tree Classifier model, accuracy, confusion matrix and classification report importing \n",
        "2.   Passing x_train and y_train (With out smote technique) to the model\n",
        "3.   Predicting the x_test value by our model and checking accuracy b/w y_test and predicted values on x_test\n",
        "4. Checking confusion matrix, classifier report and heatmap\n"
      ]
    },
    {
      "cell_type": "code",
      "metadata": {
        "colab": {
          "base_uri": "https://localhost:8080/",
          "height": 410
        },
        "id": "joYg3IJHFaxY",
        "outputId": "7cac1c80-5eaa-43d4-bd36-01c7d52d7cca"
      },
      "source": [
        "from sklearn.ensemble import ExtraTreesClassifier\n",
        "extra = ExtraTreesClassifier()\n",
        "extra.fit(x_train,y_train)\n",
        "y_pred_extra = extra.predict(x_test)\n",
        "print('Accuracy:', accuracy_score(y_test, y_pred_extra))\n",
        "print('Confusion Matrix:')\n",
        "print(confusion_matrix(y_test, y_pred_extra))\n",
        "print('Heatmap on Confusion Matrix:')\n",
        "sb.heatmap(confusion_matrix(y_test, y_pred_extra), annot=True)"
      ],
      "execution_count": 424,
      "outputs": [
        {
          "output_type": "stream",
          "text": [
            "Accuracy: 0.9884393063583815\n",
            "Confusion Matrix:\n",
            "[[ 62   1   0   1]\n",
            " [  1  12   0   0]\n",
            " [  0   0 251   0]\n",
            " [  0   1   0  17]]\n",
            "Heatmap on Confusion Matrix:\n"
          ],
          "name": "stdout"
        },
        {
          "output_type": "execute_result",
          "data": {
            "text/plain": [
              "<matplotlib.axes._subplots.AxesSubplot at 0x7fb481614a50>"
            ]
          },
          "metadata": {
            "tags": []
          },
          "execution_count": 424
        },
        {
          "output_type": "display_data",
          "data": {
            "image/png": "[encoded data removed]",
            "text/plain": [
              "<Figure size 432x288 with 2 Axes>"
            ]
          },
          "metadata": {
            "tags": [],
            "needs_background": "light"
          }
        }
      ]
    },
    {
      "cell_type": "code",
      "metadata": {
        "colab": {
          "base_uri": "https://localhost:8080/"
        },
        "id": "JYbKtsVRF3BZ",
        "outputId": "697e52a8-b15e-4ef8-80ca-8d4362c71359"
      },
      "source": [
        "print('Classifier Report:')\n",
        "print(classification_report(y_test, y_pred_extra))"
      ],
      "execution_count": 425,
      "outputs": [
        {
          "output_type": "stream",
          "text": [
            "Classifier Report:\n",
            "              precision    recall  f1-score   support\n",
            "\n",
            "         acc       0.98      0.97      0.98        64\n",
            "        good       0.86      0.92      0.89        13\n",
            "       unacc       1.00      1.00      1.00       251\n",
            "       vgood       0.94      0.94      0.94        18\n",
            "\n",
            "    accuracy                           0.99       346\n",
            "   macro avg       0.95      0.96      0.95       346\n",
            "weighted avg       0.99      0.99      0.99       346\n",
            "\n"
          ],
          "name": "stdout"
        }
      ]
    },
    {
      "cell_type": "markdown",
      "metadata": {
        "id": "8WWp9uWpG9pv"
      },
      "source": [
        "#Extra Tree Classifier:Model (with Smote)\n",
        "\n",
        "1.   The below line contains Extra Tree Classifier model, accuracy, confusion matrix and classification report importing \n",
        "2.   Passing x_train and y_train (With smote technique) to the model\n",
        "3.   Predicting the x_test value by our model and checking accuracy b/w y_test and predicted values on x_test\n",
        "4. Checking confusion matrix, classifier report and heatmap"
      ]
    },
    {
      "cell_type": "code",
      "metadata": {
        "colab": {
          "base_uri": "https://localhost:8080/",
          "height": 411
        },
        "id": "uP95IyqsGZbM",
        "outputId": "9fdcaccf-1e4c-4e17-aee1-ad296cf7895d"
      },
      "source": [
        "from sklearn.ensemble import ExtraTreesClassifier\n",
        "extra = ExtraTreesClassifier()\n",
        "extra.fit(x_train_smote,y_train_smote)\n",
        "y_pred_extra_smote = extra.predict(x_test)\n",
        "print('Accuracy:', accuracy_score(y_test, y_pred_extra_smote))\n",
        "print('Confusion Matrix:')\n",
        "print(confusion_matrix(y_test, y_pred_extra_smote))\n",
        "print('Heatmap on Confusion Matrix:')\n",
        "sb.heatmap(confusion_matrix(y_test, y_pred_extra_smote), annot=True)"
      ],
      "execution_count": 427,
      "outputs": [
        {
          "output_type": "stream",
          "text": [
            "Accuracy: 0.9884393063583815\n",
            "Confusion Matrix:\n",
            "[[ 62   1   0   1]\n",
            " [  1  12   0   0]\n",
            " [  1   0 250   0]\n",
            " [  0   0   0  18]]\n",
            "Heatmap on Confusion Matrix:\n"
          ],
          "name": "stdout"
        },
        {
          "output_type": "execute_result",
          "data": {
            "text/plain": [
              "<matplotlib.axes._subplots.AxesSubplot at 0x7fb4810559d0>"
            ]
          },
          "metadata": {
            "tags": []
          },
          "execution_count": 427
        },
        {
          "output_type": "display_data",
          "data": {
            "image/png": "[encoded data removed]",
            "text/plain": [
              "<Figure size 432x288 with 2 Axes>"
            ]
          },
          "metadata": {
            "tags": [],
            "needs_background": "light"
          }
        }
      ]
    },
    {
      "cell_type": "code",
      "metadata": {
        "colab": {
          "base_uri": "https://localhost:8080/"
        },
        "id": "fe3YYe88GZYi",
        "outputId": "a772485e-9a5a-4f35-d80c-f8e99ca50d4e"
      },
      "source": [
        "print('Classifier Report:')\n",
        "print(classification_report(y_test, y_pred_extra_smote))"
      ],
      "execution_count": 428,
      "outputs": [
        {
          "output_type": "stream",
          "text": [
            "Classifier Report:\n",
            "              precision    recall  f1-score   support\n",
            "\n",
            "         acc       0.97      0.97      0.97        64\n",
            "        good       0.92      0.92      0.92        13\n",
            "       unacc       1.00      1.00      1.00       251\n",
            "       vgood       0.95      1.00      0.97        18\n",
            "\n",
            "    accuracy                           0.99       346\n",
            "   macro avg       0.96      0.97      0.97       346\n",
            "weighted avg       0.99      0.99      0.99       346\n",
            "\n"
          ],
          "name": "stdout"
        }
      ]
    },
    {
      "cell_type": "code",
      "metadata": {
        "colab": {
          "base_uri": "https://localhost:8080/"
        },
        "id": "WgtN6M22GZVq",
        "outputId": "a9c98e7b-2abd-4f4e-e0e9-f24cf0532e60"
      },
      "source": [
        "print('Crosstab Extra Tree Classifier without smote')\n",
        "print(pd.crosstab(y_test, y_pred_extra))\n",
        "print('Crosstab Extra Tree Classifier with smote')\n",
        "print(pd.crosstab(y_test, y_pred_extra_smote))"
      ],
      "execution_count": 429,
      "outputs": [
        {
          "output_type": "stream",
          "text": [
            "Crosstab Extra Tree Classifier without smote\n",
            "col_0    acc  good  unacc  vgood\n",
            "outcome                         \n",
            "acc       62     1      0      1\n",
            "good       1    12      0      0\n",
            "unacc      0     0    251      0\n",
            "vgood      0     1      0     17\n",
            "Crosstab Extra Tree Classifier with smote\n",
            "col_0    acc  good  unacc  vgood\n",
            "outcome                         \n",
            "acc       62     1      0      1\n",
            "good       1    12      0      0\n",
            "unacc      1     0    250      0\n",
            "vgood      0     0      0     18\n"
          ],
          "name": "stdout"
        }
      ]
    },
    {
      "cell_type": "markdown",
      "metadata": {
        "id": "6hJHiPOH32VF"
      },
      "source": [
        "#Logistic Regression:Model (with Smote)\n",
        "\n",
        "1.   The below line contains logistic model, accuracy, confusion matrix and classification report importing \n",
        "2.   Passing x_train and y_train (With smote technique) to the model\n",
        "3.   Predicting the x_test value by our model and checking accuracy b/w y_test and predicted values on x_test\n",
        "4. Checking confusion matrix, classifier report and heatmap"
      ]
    },
    {
      "cell_type": "code",
      "metadata": {
        "colab": {
          "base_uri": "https://localhost:8080/",
          "height": 548
        },
        "id": "0glGoHoi3ucd",
        "outputId": "4d6b82d6-f3cd-430d-ef32-183ec0de27cd"
      },
      "source": [
        "from sklearn.linear_model import LogisticRegression\n",
        "lrm = LogisticRegression()\n",
        "lrm.fit(x_train,y_train)\n",
        "y_pred_lrm = lrm.predict(x_test)\n",
        "print('Accuracy:', accuracy_score(y_test, y_pred_lrm))\n",
        "print('Confusion Matrix:')\n",
        "print(confusion_matrix(y_test, y_pred_lrm))\n",
        "print('Heatmap on Confusion Matrix:')\n",
        "sb.heatmap(confusion_matrix(y_test, y_pred_lrm), annot=True)"
      ],
      "execution_count": 326,
      "outputs": [
        {
          "output_type": "stream",
          "text": [
            "Accuracy: 0.7109826589595376\n",
            "Confusion Matrix:\n",
            "[[ 16   0  47   1]\n",
            " [  3   0  10   0]\n",
            " [ 23   0 227   1]\n",
            " [  6   0   9   3]]\n",
            "Heatmap on Confusion Matrix:\n"
          ],
          "name": "stdout"
        },
        {
          "output_type": "stream",
          "text": [
            "/usr/local/lib/python3.7/dist-packages/sklearn/linear_model/_logistic.py:940: ConvergenceWarning: lbfgs failed to converge (status=1):\n",
            "STOP: TOTAL NO. of ITERATIONS REACHED LIMIT.\n",
            "\n",
            "Increase the number of iterations (max_iter) or scale the data as shown in:\n",
            "    https://scikit-learn.org/stable/modules/preprocessing.html\n",
            "Please also refer to the documentation for alternative solver options:\n",
            "    https://scikit-learn.org/stable/modules/linear_model.html#logistic-regression\n",
            "  extra_warning_msg=_LOGISTIC_SOLVER_CONVERGENCE_MSG)\n"
          ],
          "name": "stderr"
        },
        {
          "output_type": "execute_result",
          "data": {
            "text/plain": [
              "<matplotlib.axes._subplots.AxesSubplot at 0x7fb482721a10>"
            ]
          },
          "metadata": {
            "tags": []
          },
          "execution_count": 326
        },
        {
          "output_type": "display_data",
          "data": {
            "image/png": "[encoded data removed]",
            "text/plain": [
              "<Figure size 432x288 with 2 Axes>"
            ]
          },
          "metadata": {
            "tags": [],
            "needs_background": "light"
          }
        }
      ]
    },
    {
      "cell_type": "code",
      "metadata": {
        "colab": {
          "base_uri": "https://localhost:8080/"
        },
        "id": "ebo2vd4541HC",
        "outputId": "a2aa7a2c-e839-4a0b-d6e2-2eb966f36486"
      },
      "source": [
        "print('Classifier Report:')\n",
        "print(classification_report(y_test, y_pred_lrm))"
      ],
      "execution_count": 327,
      "outputs": [
        {
          "output_type": "stream",
          "text": [
            "Classifier Report:\n",
            "              precision    recall  f1-score   support\n",
            "\n",
            "         acc       0.33      0.25      0.29        64\n",
            "        good       0.00      0.00      0.00        13\n",
            "       unacc       0.77      0.90      0.83       251\n",
            "       vgood       0.60      0.17      0.26        18\n",
            "\n",
            "    accuracy                           0.71       346\n",
            "   macro avg       0.43      0.33      0.35       346\n",
            "weighted avg       0.65      0.71      0.67       346\n",
            "\n"
          ],
          "name": "stdout"
        },
        {
          "output_type": "stream",
          "text": [
            "/usr/local/lib/python3.7/dist-packages/sklearn/metrics/_classification.py:1272: UndefinedMetricWarning: Precision and F-score are ill-defined and being set to 0.0 in labels with no predicted samples. Use `zero_division` parameter to control this behavior.\n",
            "  _warn_prf(average, modifier, msg_start, len(result))\n"
          ],
          "name": "stderr"
        }
      ]
    },
    {
      "cell_type": "markdown",
      "metadata": {
        "id": "6BH-OpLK5AZW"
      },
      "source": [
        "#Logistic Regression:Model (with Smote)\n",
        "\n",
        "1.   The below line contains logistic model, accuracy, confusion matrix and classification report importing \n",
        "2.   Passing x_train and y_train (With smote technique) to the model\n",
        "3.   Predicting the x_test value by our model and checking accuracy b/w y_test and predicted values on x_test\n",
        "4. Checking confusion matrix, classifier report and heatmap"
      ]
    },
    {
      "cell_type": "code",
      "metadata": {
        "colab": {
          "base_uri": "https://localhost:8080/",
          "height": 537
        },
        "id": "7XA-DGLJ41EG",
        "outputId": "91597dc3-6831-4d4e-8f13-8407801c1663"
      },
      "source": [
        "from sklearn.linear_model import LogisticRegression\n",
        "lrm = LogisticRegression()\n",
        "lrm.fit(x_train_smote,y_train_smote)\n",
        "y_pred_lrm_smote = lrm.predict(x_test)\n",
        "print('Accuracy:', accuracy_score(y_test, y_pred_lrm_smote))\n",
        "print('Confusion Matrix:')\n",
        "print(confusion_matrix(y_test, y_pred_lrm_smote))\n",
        "print('Heatmap on Confusion Matrix:')\n",
        "sb.heatmap(confusion_matrix(y_test, y_pred_lrm_smote), annot=True)"
      ],
      "execution_count": 328,
      "outputs": [
        {
          "output_type": "stream",
          "text": [
            "Accuracy: 0.5375722543352601\n",
            "Confusion Matrix:\n",
            "[[  9  29  12  14]\n",
            " [  5   5   3   0]\n",
            " [ 45  44 155   7]\n",
            " [  1   0   0  17]]\n",
            "Heatmap on Confusion Matrix:\n"
          ],
          "name": "stdout"
        },
        {
          "output_type": "stream",
          "text": [
            "/usr/local/lib/python3.7/dist-packages/sklearn/linear_model/_logistic.py:940: ConvergenceWarning: lbfgs failed to converge (status=1):\n",
            "STOP: TOTAL NO. of ITERATIONS REACHED LIMIT.\n",
            "\n",
            "Increase the number of iterations (max_iter) or scale the data as shown in:\n",
            "    https://scikit-learn.org/stable/modules/preprocessing.html\n",
            "Please also refer to the documentation for alternative solver options:\n",
            "    https://scikit-learn.org/stable/modules/linear_model.html#logistic-regression\n",
            "  extra_warning_msg=_LOGISTIC_SOLVER_CONVERGENCE_MSG)\n"
          ],
          "name": "stderr"
        },
        {
          "output_type": "execute_result",
          "data": {
            "text/plain": [
              "<matplotlib.axes._subplots.AxesSubplot at 0x7fb481c84150>"
            ]
          },
          "metadata": {
            "tags": []
          },
          "execution_count": 328
        },
        {
          "output_type": "display_data",
          "data": {
            "image/png": "[encoded data removed]",
            "text/plain": [
              "<Figure size 432x288 with 2 Axes>"
            ]
          },
          "metadata": {
            "tags": [],
            "needs_background": "light"
          }
        }
      ]
    },
    {
      "cell_type": "code",
      "metadata": {
        "colab": {
          "base_uri": "https://localhost:8080/"
        },
        "id": "2suj11fP41Bf",
        "outputId": "59eab150-3e4c-45fe-a408-5bf407a80777"
      },
      "source": [
        "print('Classifier Report:')\n",
        "print(classification_report(y_test, y_pred_lrm_smote))"
      ],
      "execution_count": 329,
      "outputs": [
        {
          "output_type": "stream",
          "text": [
            "Classifier Report:\n",
            "              precision    recall  f1-score   support\n",
            "\n",
            "         acc       0.15      0.14      0.15        64\n",
            "        good       0.06      0.38      0.11        13\n",
            "       unacc       0.91      0.62      0.74       251\n",
            "       vgood       0.45      0.94      0.61        18\n",
            "\n",
            "    accuracy                           0.54       346\n",
            "   macro avg       0.39      0.52      0.40       346\n",
            "weighted avg       0.71      0.54      0.60       346\n",
            "\n"
          ],
          "name": "stdout"
        }
      ]
    },
    {
      "cell_type": "code",
      "metadata": {
        "colab": {
          "base_uri": "https://localhost:8080/"
        },
        "id": "xYyduMIS40-L",
        "outputId": "d473d320-604c-4cc0-e866-95686ee4265c"
      },
      "source": [
        "print('Crosstab LRM without smote')\n",
        "print(pd.crosstab(y_test, y_pred_lrm))\n",
        "print('Crosstab LRM with smote')\n",
        "print(pd.crosstab(y_test, y_pred_lrm_smote))"
      ],
      "execution_count": 331,
      "outputs": [
        {
          "output_type": "stream",
          "text": [
            "Crosstab LRM without smote\n",
            "col_0    acc  unacc  vgood\n",
            "outcome                   \n",
            "acc       16     47      1\n",
            "good       3     10      0\n",
            "unacc     23    227      1\n",
            "vgood      6      9      3\n",
            "Crosstab LRM with smote\n",
            "col_0    acc  good  unacc  vgood\n",
            "outcome                         \n",
            "acc        9    29     12     14\n",
            "good       5     5      3      0\n",
            "unacc     45    44    155      7\n",
            "vgood      1     0      0     17\n"
          ],
          "name": "stdout"
        }
      ]
    },
    {
      "cell_type": "markdown",
      "metadata": {
        "id": "JOeIH7l650sp"
      },
      "source": [
        "#Logistic Regression:Model (with Smote & Hyper parameter tuning)\n",
        "\n",
        "1.   The below line contains logistic model, accuracy, confusion matrix and classification report importing \n",
        "2.   Passing x_train and y_train (With smote technique) to the model\n",
        "3.   Predicting the x_test value by our model and checking accuracy b/w y_test and predicted values on x_test\n",
        "4. Checking confusion matrix, classifier report and heatmap\n",
        "5. Here we found that LOgistic regression model doesn't get proprer accuracy so lets do hyper parameter tuning"
      ]
    },
    {
      "cell_type": "code",
      "metadata": {
        "id": "INWPtRNj6Zzw"
      },
      "source": [
        "from sklearn.linear_model import LogisticRegression\n",
        "from sklearn.model_selection import GridSearchCV\n",
        "from sklearn.model_selection import KFold\n",
        "lrm1 = LogisticRegression()"
      ],
      "execution_count": 334,
      "outputs": []
    },
    {
      "cell_type": "code",
      "metadata": {
        "id": "wgQJo55r6zaR"
      },
      "source": [
        "param={'C':10.0 **np.arange(-2,3),'penalty':['l1','l2']}\n",
        "cv=KFold(n_splits=7,random_state=None,shuffle=False)"
      ],
      "execution_count": 406,
      "outputs": []
    },
    {
      "cell_type": "code",
      "metadata": {
        "id": "uL7yvTSc6zd2"
      },
      "source": [
        "lrm2 =GridSearchCV(lrm1, param, cv=cv,scoring='f1_macro', n_jobs=-5)"
      ],
      "execution_count": 409,
      "outputs": []
    },
    {
      "cell_type": "code",
      "metadata": {
        "id": "p7SuMEou6zg5"
      },
      "source": [
        "lrm2.fit(x_train_smote, y_train_smote)"
      ],
      "execution_count": null,
      "outputs": []
    },
    {
      "cell_type": "code",
      "metadata": {
        "colab": {
          "base_uri": "https://localhost:8080/"
        },
        "id": "slyd05hJ6zjc",
        "outputId": "caa70383-3481-4ef4-8ad7-cd1b7bbb7b92"
      },
      "source": [
        "lrm2.get_params"
      ],
      "execution_count": 411,
      "outputs": [
        {
          "output_type": "execute_result",
          "data": {
            "text/plain": [
              "<bound method BaseEstimator.get_params of GridSearchCV(cv=KFold(n_splits=7, random_state=None, shuffle=False),\n",
              "             error_score=nan,\n",
              "             estimator=LogisticRegression(C=1.0, class_weight=None, dual=False,\n",
              "                                          fit_intercept=True,\n",
              "                                          intercept_scaling=1, l1_ratio=None,\n",
              "                                          max_iter=100, multi_class='auto',\n",
              "                                          n_jobs=None, penalty='l2',\n",
              "                                          random_state=None, solver='lbfgs',\n",
              "                                          tol=0.0001, verbose=0,\n",
              "                                          warm_start=False),\n",
              "             iid='deprecated', n_jobs=-5,\n",
              "             param_grid={'C': array([1.e-02, 1.e-01, 1.e+00, 1.e+01, 1.e+02]),\n",
              "                         'penalty': ['l1', 'l2']},\n",
              "             pre_dispatch='2*n_jobs', refit=True, return_train_score=False,\n",
              "             scoring='f1_macro', verbose=0)>"
            ]
          },
          "metadata": {
            "tags": []
          },
          "execution_count": 411
        }
      ]
    },
    {
      "cell_type": "code",
      "metadata": {
        "colab": {
          "base_uri": "https://localhost:8080/",
          "height": 401
        },
        "id": "aQLoiC2pCUPp",
        "outputId": "aec98ab2-f5cd-46c6-9555-0feb071efffe"
      },
      "source": [
        "y_pred_lrm2_smote = lrm2.predict(x_test)\n",
        "print('Accuracy:', accuracy_score(y_test,y_pred_lrm2_smote))\n",
        "print('Confusion Matrix:')\n",
        "print(confusion_matrix(y_test,y_pred_lrm2_smote))\n",
        "print('Heatmap on confusion Matrix')\n",
        "sb.heatmap(confusion_matrix(y_test, y_pred_lrm2_smote), annot = True)"
      ],
      "execution_count": 418,
      "outputs": [
        {
          "output_type": "stream",
          "text": [
            "Accuracy: 0.5404624277456648\n",
            "Confusion Matrix:\n",
            "[[  9  29  12  14]\n",
            " [  5   6   2   0]\n",
            " [ 45  44 155   7]\n",
            " [  1   0   0  17]]\n",
            "Heatmap on confusion Matrix\n"
          ],
          "name": "stdout"
        },
        {
          "output_type": "execute_result",
          "data": {
            "text/plain": [
              "<matplotlib.axes._subplots.AxesSubplot at 0x7fb481b2e650>"
            ]
          },
          "metadata": {
            "tags": []
          },
          "execution_count": 418
        },
        {
          "output_type": "display_data",
          "data": {
            "image/png": "[encoded data removed]",
            "text/plain": [
              "<Figure size 432x288 with 2 Axes>"
            ]
          },
          "metadata": {
            "tags": [],
            "needs_background": "light"
          }
        }
      ]
    },
    {
      "cell_type": "code",
      "metadata": {
        "colab": {
          "base_uri": "https://localhost:8080/"
        },
        "id": "NLbFUNXlChUS",
        "outputId": "a853e825-b9dc-4e9e-b264-85db63903483"
      },
      "source": [
        "print('Classification Report')\n",
        "print(classification_report(y_test,y_pred_lrm2_smote))"
      ],
      "execution_count": 416,
      "outputs": [
        {
          "output_type": "stream",
          "text": [
            "Classification Report\n",
            "              precision    recall  f1-score   support\n",
            "\n",
            "         acc       0.15      0.14      0.15        64\n",
            "        good       0.08      0.46      0.13        13\n",
            "       unacc       0.92      0.62      0.74       251\n",
            "       vgood       0.45      0.94      0.61        18\n",
            "\n",
            "    accuracy                           0.54       346\n",
            "   macro avg       0.40      0.54      0.41       346\n",
            "weighted avg       0.72      0.54      0.60       346\n",
            "\n"
          ],
          "name": "stdout"
        }
      ]
    },
    {
      "cell_type": "markdown",
      "metadata": {
        "id": "zZYvAkHAEhVX"
      },
      "source": [
        ""
      ]
    },
    {
      "cell_type": "code",
      "metadata": {
        "colab": {
          "base_uri": "https://localhost:8080/",
          "height": 401
        },
        "id": "LY00KvURD34Y",
        "outputId": "8d885e23-a28a-42e7-905f-315d9f0afadb"
      },
      "source": [
        ""
      ],
      "execution_count": 419,
      "outputs": [
        {
          "output_type": "stream",
          "text": [
            "Accuracy: 0.9855491329479769\n",
            "Confusion Matrix:\n",
            "[[ 62   1   0   1]\n",
            " [  1  12   0   0]\n",
            " [  2   0 249   0]\n",
            " [  0   0   0  18]]\n",
            "Heatmap on Confusion Matrix:\n"
          ],
          "name": "stdout"
        },
        {
          "output_type": "execute_result",
          "data": {
            "text/plain": [
              "<matplotlib.axes._subplots.AxesSubplot at 0x7fb482def310>"
            ]
          },
          "metadata": {
            "tags": []
          },
          "execution_count": 419
        },
        {
          "output_type": "display_data",
          "data": {
            "image/png": "[encoded data removed]",
            "text/plain": [
              "<Figure size 432x288 with 2 Axes>"
            ]
          },
          "metadata": {
            "tags": [],
            "needs_background": "light"
          }
        }
      ]
    },
    {
      "cell_type": "code",
      "metadata": {
        "id": "JbZGx818D3zi"
      },
      "source": [
        ""
      ],
      "execution_count": null,
      "outputs": []
    },
    {
      "cell_type": "code",
      "metadata": {
        "id": "Bu0We3-dD3r3"
      },
      "source": [
        ""
      ],
      "execution_count": null,
      "outputs": []
    }
  ]
}